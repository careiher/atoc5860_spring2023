{
  "cells": [
    {
      "cell_type": "markdown",
      "metadata": {
        "id": "_qXNH86re4ZW"
      },
      "source": [
        "#  ATOC5860 Application Lab #6 - supervised_ML\n",
        "##### Written by Dr. Middlemas (formerly CU, now PricewaterhouseCoopers) with commenting from Prof. Kay (CU)\n",
        "##### last updated April 18, 2023 - works with environment - environment.yml\n",
        "\n",
        "\n",
        "### LEARNING GOALS:\n",
        "1.\tBuild familiarity with the data processing pipeline (workflow) required to utilize supervised machine learning techniques.\n",
        "2.\tImplement and compare four different supervised learning algorithms \n",
        "3.\tUnderstanding two outcomes of supervised learning algorithms: prediction and feature importance.\n",
        "4.\tStart building a foundation for future machine learning including the following terms: cross-validation, training vs. testing data, metrics (accuracy, recall, precision, f1 score, etc.), overfitting/underfitting, balancing datasets, hyperparameters, & feature importance.  Some future learning resources are provided… but there’s a lot available!  Share resources you find valuable.\n",
        "\n",
        "### DATA and UNDERLYING SCIENCE MOTIVATION:  \n",
        "\n",
        "We will use the Christman dataset which contains weather observations from Fort Collins, Colorado for the year 2016. We will build and train four machine learning models to predict something we already know from the dataset: Is it raining?. The point is not to conduct cutting-edge research or make novel predictions. Instead, the purpose here is to showcase supervised machine learning (ML) models and methods. By the end, we hope you can walk away with more confidence to learn and apply these tools to new problems.\n",
        "\n",
        "Let's say you want to determine which features or atmospheric variables are the best predictors of rainfall. Often, one simply regresses some metric of precipitation onto various atmospheric variables. Then, you assume that whatever returns the highest regression coefficient is the best predictor. While this approach with linear regression presents a fine first guess, it poses a few problems. Linear regression assumes: 1) atmospheric variables are linearly related to precipitation, 2) atmospheric variables are uncorrelated. Yet, both are false assumptions. While a linear relationship between predictor & predictand is a good first guess, why limit yourself to linearity when you can just as easily relax that assumption using supervised Machine Learning... \n",
        "\n",
        "This notebook will step through the following Machine Learning model pipeline:\n",
        "\n",
        "In this notebook, we will use supervised machine learning to **predict the likelihood of rainfall given certain atmospheric conditions**.  After prepping the data, we will build and train four supervised machine learning models to make the predictions: Logistic regression, Random Forest, Singular vector machines/classifier, Neural Network. Finally, we will determine which variable (\"feature\") is the best predictor of rainfall, i.e., we will assess \"feature importance\".\n",
        "\n",
        "Pros/Cons of the supervised machine learning models implemented here:\n",
        "1.\tLogistic regression tends to overgeneralize or underfit data, but is easy to implement, to understand and easy to back out feature importance.\n",
        "2.\tSingular Vector Machines are great at capturing complex relationships, but cannot back out feature importance. Plus, the use of the kernel makes them hard to interpret.\n",
        "3.\tRandom forests are easier to understand, generally do not overfit, and can capture complex relationships, and can provide feature importance, but they can be slow to train and there are a lot of hyperparameters to choose from.\n",
        "4.\tNeural Networks are great at capturing complex relationships. But they are slow to train and are susceptible to overfitting.\n",
        "\n",
        "**Questions to guide your analysis** \n",
        "\n",
        "<font color='green'> Questions answered by Clairy Reiher (last answered on Fri, Apr 28, 2022).\n",
        "\n",
        "1) Which machine learning model performs the best to predict rainfall?  What metrics did you use to make this assessment?\n",
        "    \n",
        "<font color='green'> It looks like the convolutional neural network (the CNN) performed the best out of all four models. This is apparent when we compare the accuracy, recall, and prediction example metrics across the four models.\n",
        "\n",
        "2) Describe the difference between accuracy and recall.  Why did we choose to use accuracy, recall, and predicted precipitation probability as a way to compare models?  In forecasting: when is a false positive (you said it would rain, but it didn’t rain) preferred over a false negative (you said it wouldn’t rain, but it did rain)?\n",
        "    \n",
        "<font color='green'> Accuracy measures the proportion of precipitating and non-precipitating hours that were correctly predicted, while recall measures only the proportion of precipitating hours that were correctly predicted. Therefore, recall only measures the ability of the model to produce true positives, while accuracy measures the ability of the model to produce true positives and true negatives. Accuracy, recall, and predicted precipitation probability are straight forward ways to assess the performance of the models overall and their confidence following training.\n",
        "\n",
        "<font color='green'> A false positive in weather forecasting is much safer than a false negative. A false positive for a dangerous weather event at least allows communities to prepare for the event, while a false negative does not permit preparation and can result in damage or losses that would have otherwise been prevented if the community could have prepared for the event. In other words, a false negative has much more dangerous consequences than a false positive.\n",
        "\n",
        "3) One important \"gotcha\" in a machine learning workflow or pipeline is the order of data preparation. Why should one perform the train-test split before feature scaling and rebalancing? Hint: think about using a trained model for future predictions. Do you want your scaling of the testing data to depend on the training data? Why perform a test-train split at all? \n",
        "    \n",
        "<font color='green'> We need to perform the train-test split prior to scaling and rebalancing precisely because we don't want scaling/rebalancing of the training dataset to contribute or interefere with the scaling/rebalancing of the data we use to test the model performance. In addition, I wouldn't be surprised if dividing the data into two subsets after rebalancing risks undoing some of that rebalancing (we want both the training and testing subsets to have balanced outcomes within their own individual groups). We have to perform a test-train split so that we save some data for evaluation. There is no way of telling whether the model works or not if we don't have any data to evaluate it with.\n",
        "\n",
        "4) Collinearity, or non-zero correlation among features, results in a model that is overly complex, reduces the statistical significance of the fit of the model, and prevents one from correctly identifying the importance of features. Are there features included in our machine learning models to predict rain in the Christman dataset that are collinear? If so, how do you think we should address this collinearity? A couple of suggestions: If we don't have that many features, we could use our meteorological expertise to simply remove one of the features that shares collinearity with other features. Another way to address collinearity is to use feature regularization, or add weights that penalize features that add noise, ultimately reducing model complexity.\n",
        "    \n",
        "<font color='green'> There are definitely some features that are collinear! For example, higher wind speeds likely correlate with lower relative humidity values, since the turbulence generated by higher wind speeds can help vertically mix moisture residing near the surface. Adding weights is probably the most reasonable way to handle this collinearity. Simply removing wind speed or relative humidity, however, would likely result in too large a loss of information that aids the ability of our models to perform well."
      ],
      "id": "_qXNH86re4ZW"
    },
    {
      "cell_type": "code",
      "execution_count": 1,
      "metadata": {
        "id": "8NTecylce4Zf"
      },
      "outputs": [],
      "source": [
        "import pandas as pd\n",
        "import numpy as np\n",
        "import datetime\n",
        "import time"
      ],
      "id": "8NTecylce4Zf"
    },
    {
      "cell_type": "markdown",
      "metadata": {
        "id": "pTCFQbfWe4Zh"
      },
      "source": [],
      "id": "pTCFQbfWe4Zh"
    },
    {
      "cell_type": "markdown",
      "metadata": {
        "id": "gdnYmdUTe4Zi"
      },
      "source": [
        "## STEP 1: Read in the data into a pandas dataframe and look at it"
      ],
      "id": "gdnYmdUTe4Zi"
    },
    {
      "cell_type": "code",
      "source": [
        "from google.colab import drive\n",
        "drive.mount('/content/gdrive')"
      ],
      "metadata": {
        "colab": {
          "base_uri": "https://localhost:8080/"
        },
        "id": "d6puN_5wfBdr",
        "outputId": "cee30d10-5799-43c5-d6ef-6c52fe877219"
      },
      "id": "d6puN_5wfBdr",
      "execution_count": 2,
      "outputs": [
        {
          "output_type": "stream",
          "name": "stdout",
          "text": [
            "Mounted at /content/gdrive\n"
          ]
        }
      ]
    },
    {
      "cell_type": "code",
      "execution_count": 3,
      "metadata": {
        "colab": {
          "base_uri": "https://localhost:8080/",
          "height": 419
        },
        "id": "G9TMJD1se4Zi",
        "outputId": "c4f42a8a-050b-4af0-b862-d35d42d4d014"
      },
      "outputs": [
        {
          "output_type": "execute_result",
          "data": {
            "text/plain": [
              "        day      hour  temp_F    RH  dewtemp_F  wind_mph  wind_dir  windgust  \\\n",
              "0     42370  0.000000     7.0  72.2       -0.1       1.2       234       3.9   \n",
              "1     42370  0.041667     5.4  74.3       -1.0       3.4       299       7.1   \n",
              "2     42370  0.083333     6.4  73.8       -0.2       2.8       200       7.0   \n",
              "3     42370  0.125000     3.0  73.5       -3.6       2.9       309       6.1   \n",
              "4     42370  0.166667     3.7  76.9       -1.9       3.1       346       5.3   \n",
              "...     ...       ...     ...   ...        ...       ...       ...       ...   \n",
              "8779  42735  0.791667    22.3  74.3       15.4       0.9       221       3.3   \n",
              "8780  42735  0.833333    20.3  80.4       15.3       0.6       279       2.9   \n",
              "8781  42735  0.875000    19.9  81.1       15.1       0.5       197       2.5   \n",
              "8782  42735  0.916667    17.8  82.8       13.5       2.0       353       4.8   \n",
              "8783  42735  0.958333    16.3  84.1       12.4       1.0       191       4.9   \n",
              "\n",
              "      windgust_dir  pres_Hg  SOLIN_Wm2  Prec_inches  \n",
              "0              224   851.30        0.0          0.0  \n",
              "1              302   850.82        0.0          0.0  \n",
              "2              301   849.83        0.0          0.0  \n",
              "3              349   850.69        0.0          0.0  \n",
              "4              255   848.24        0.0          0.0  \n",
              "...            ...      ...        ...          ...  \n",
              "8779           202   833.32        0.0          0.0  \n",
              "8780           279   833.45        0.1          0.0  \n",
              "8781           279   833.01        0.1          0.0  \n",
              "8782           352   832.78        0.1          0.0  \n",
              "8783           353   832.62        0.0          0.0  \n",
              "\n",
              "[8784 rows x 12 columns]"
            ],
            "text/html": [
              "\n",
              "  <div id=\"df-735b27a3-7582-40fd-8b6e-53d46b96df52\">\n",
              "    <div class=\"colab-df-container\">\n",
              "      <div>\n",
              "<style scoped>\n",
              "    .dataframe tbody tr th:only-of-type {\n",
              "        vertical-align: middle;\n",
              "    }\n",
              "\n",
              "    .dataframe tbody tr th {\n",
              "        vertical-align: top;\n",
              "    }\n",
              "\n",
              "    .dataframe thead th {\n",
              "        text-align: right;\n",
              "    }\n",
              "</style>\n",
              "<table border=\"1\" class=\"dataframe\">\n",
              "  <thead>\n",
              "    <tr style=\"text-align: right;\">\n",
              "      <th></th>\n",
              "      <th>day</th>\n",
              "      <th>hour</th>\n",
              "      <th>temp_F</th>\n",
              "      <th>RH</th>\n",
              "      <th>dewtemp_F</th>\n",
              "      <th>wind_mph</th>\n",
              "      <th>wind_dir</th>\n",
              "      <th>windgust</th>\n",
              "      <th>windgust_dir</th>\n",
              "      <th>pres_Hg</th>\n",
              "      <th>SOLIN_Wm2</th>\n",
              "      <th>Prec_inches</th>\n",
              "    </tr>\n",
              "  </thead>\n",
              "  <tbody>\n",
              "    <tr>\n",
              "      <th>0</th>\n",
              "      <td>42370</td>\n",
              "      <td>0.000000</td>\n",
              "      <td>7.0</td>\n",
              "      <td>72.2</td>\n",
              "      <td>-0.1</td>\n",
              "      <td>1.2</td>\n",
              "      <td>234</td>\n",
              "      <td>3.9</td>\n",
              "      <td>224</td>\n",
              "      <td>851.30</td>\n",
              "      <td>0.0</td>\n",
              "      <td>0.0</td>\n",
              "    </tr>\n",
              "    <tr>\n",
              "      <th>1</th>\n",
              "      <td>42370</td>\n",
              "      <td>0.041667</td>\n",
              "      <td>5.4</td>\n",
              "      <td>74.3</td>\n",
              "      <td>-1.0</td>\n",
              "      <td>3.4</td>\n",
              "      <td>299</td>\n",
              "      <td>7.1</td>\n",
              "      <td>302</td>\n",
              "      <td>850.82</td>\n",
              "      <td>0.0</td>\n",
              "      <td>0.0</td>\n",
              "    </tr>\n",
              "    <tr>\n",
              "      <th>2</th>\n",
              "      <td>42370</td>\n",
              "      <td>0.083333</td>\n",
              "      <td>6.4</td>\n",
              "      <td>73.8</td>\n",
              "      <td>-0.2</td>\n",
              "      <td>2.8</td>\n",
              "      <td>200</td>\n",
              "      <td>7.0</td>\n",
              "      <td>301</td>\n",
              "      <td>849.83</td>\n",
              "      <td>0.0</td>\n",
              "      <td>0.0</td>\n",
              "    </tr>\n",
              "    <tr>\n",
              "      <th>3</th>\n",
              "      <td>42370</td>\n",
              "      <td>0.125000</td>\n",
              "      <td>3.0</td>\n",
              "      <td>73.5</td>\n",
              "      <td>-3.6</td>\n",
              "      <td>2.9</td>\n",
              "      <td>309</td>\n",
              "      <td>6.1</td>\n",
              "      <td>349</td>\n",
              "      <td>850.69</td>\n",
              "      <td>0.0</td>\n",
              "      <td>0.0</td>\n",
              "    </tr>\n",
              "    <tr>\n",
              "      <th>4</th>\n",
              "      <td>42370</td>\n",
              "      <td>0.166667</td>\n",
              "      <td>3.7</td>\n",
              "      <td>76.9</td>\n",
              "      <td>-1.9</td>\n",
              "      <td>3.1</td>\n",
              "      <td>346</td>\n",
              "      <td>5.3</td>\n",
              "      <td>255</td>\n",
              "      <td>848.24</td>\n",
              "      <td>0.0</td>\n",
              "      <td>0.0</td>\n",
              "    </tr>\n",
              "    <tr>\n",
              "      <th>...</th>\n",
              "      <td>...</td>\n",
              "      <td>...</td>\n",
              "      <td>...</td>\n",
              "      <td>...</td>\n",
              "      <td>...</td>\n",
              "      <td>...</td>\n",
              "      <td>...</td>\n",
              "      <td>...</td>\n",
              "      <td>...</td>\n",
              "      <td>...</td>\n",
              "      <td>...</td>\n",
              "      <td>...</td>\n",
              "    </tr>\n",
              "    <tr>\n",
              "      <th>8779</th>\n",
              "      <td>42735</td>\n",
              "      <td>0.791667</td>\n",
              "      <td>22.3</td>\n",
              "      <td>74.3</td>\n",
              "      <td>15.4</td>\n",
              "      <td>0.9</td>\n",
              "      <td>221</td>\n",
              "      <td>3.3</td>\n",
              "      <td>202</td>\n",
              "      <td>833.32</td>\n",
              "      <td>0.0</td>\n",
              "      <td>0.0</td>\n",
              "    </tr>\n",
              "    <tr>\n",
              "      <th>8780</th>\n",
              "      <td>42735</td>\n",
              "      <td>0.833333</td>\n",
              "      <td>20.3</td>\n",
              "      <td>80.4</td>\n",
              "      <td>15.3</td>\n",
              "      <td>0.6</td>\n",
              "      <td>279</td>\n",
              "      <td>2.9</td>\n",
              "      <td>279</td>\n",
              "      <td>833.45</td>\n",
              "      <td>0.1</td>\n",
              "      <td>0.0</td>\n",
              "    </tr>\n",
              "    <tr>\n",
              "      <th>8781</th>\n",
              "      <td>42735</td>\n",
              "      <td>0.875000</td>\n",
              "      <td>19.9</td>\n",
              "      <td>81.1</td>\n",
              "      <td>15.1</td>\n",
              "      <td>0.5</td>\n",
              "      <td>197</td>\n",
              "      <td>2.5</td>\n",
              "      <td>279</td>\n",
              "      <td>833.01</td>\n",
              "      <td>0.1</td>\n",
              "      <td>0.0</td>\n",
              "    </tr>\n",
              "    <tr>\n",
              "      <th>8782</th>\n",
              "      <td>42735</td>\n",
              "      <td>0.916667</td>\n",
              "      <td>17.8</td>\n",
              "      <td>82.8</td>\n",
              "      <td>13.5</td>\n",
              "      <td>2.0</td>\n",
              "      <td>353</td>\n",
              "      <td>4.8</td>\n",
              "      <td>352</td>\n",
              "      <td>832.78</td>\n",
              "      <td>0.1</td>\n",
              "      <td>0.0</td>\n",
              "    </tr>\n",
              "    <tr>\n",
              "      <th>8783</th>\n",
              "      <td>42735</td>\n",
              "      <td>0.958333</td>\n",
              "      <td>16.3</td>\n",
              "      <td>84.1</td>\n",
              "      <td>12.4</td>\n",
              "      <td>1.0</td>\n",
              "      <td>191</td>\n",
              "      <td>4.9</td>\n",
              "      <td>353</td>\n",
              "      <td>832.62</td>\n",
              "      <td>0.0</td>\n",
              "      <td>0.0</td>\n",
              "    </tr>\n",
              "  </tbody>\n",
              "</table>\n",
              "<p>8784 rows × 12 columns</p>\n",
              "</div>\n",
              "      <button class=\"colab-df-convert\" onclick=\"convertToInteractive('df-735b27a3-7582-40fd-8b6e-53d46b96df52')\"\n",
              "              title=\"Convert this dataframe to an interactive table.\"\n",
              "              style=\"display:none;\">\n",
              "        \n",
              "  <svg xmlns=\"http://www.w3.org/2000/svg\" height=\"24px\"viewBox=\"0 0 24 24\"\n",
              "       width=\"24px\">\n",
              "    <path d=\"M0 0h24v24H0V0z\" fill=\"none\"/>\n",
              "    <path d=\"M18.56 5.44l.94 2.06.94-2.06 2.06-.94-2.06-.94-.94-2.06-.94 2.06-2.06.94zm-11 1L8.5 8.5l.94-2.06 2.06-.94-2.06-.94L8.5 2.5l-.94 2.06-2.06.94zm10 10l.94 2.06.94-2.06 2.06-.94-2.06-.94-.94-2.06-.94 2.06-2.06.94z\"/><path d=\"M17.41 7.96l-1.37-1.37c-.4-.4-.92-.59-1.43-.59-.52 0-1.04.2-1.43.59L10.3 9.45l-7.72 7.72c-.78.78-.78 2.05 0 2.83L4 21.41c.39.39.9.59 1.41.59.51 0 1.02-.2 1.41-.59l7.78-7.78 2.81-2.81c.8-.78.8-2.07 0-2.86zM5.41 20L4 18.59l7.72-7.72 1.47 1.35L5.41 20z\"/>\n",
              "  </svg>\n",
              "      </button>\n",
              "      \n",
              "  <style>\n",
              "    .colab-df-container {\n",
              "      display:flex;\n",
              "      flex-wrap:wrap;\n",
              "      gap: 12px;\n",
              "    }\n",
              "\n",
              "    .colab-df-convert {\n",
              "      background-color: #E8F0FE;\n",
              "      border: none;\n",
              "      border-radius: 50%;\n",
              "      cursor: pointer;\n",
              "      display: none;\n",
              "      fill: #1967D2;\n",
              "      height: 32px;\n",
              "      padding: 0 0 0 0;\n",
              "      width: 32px;\n",
              "    }\n",
              "\n",
              "    .colab-df-convert:hover {\n",
              "      background-color: #E2EBFA;\n",
              "      box-shadow: 0px 1px 2px rgba(60, 64, 67, 0.3), 0px 1px 3px 1px rgba(60, 64, 67, 0.15);\n",
              "      fill: #174EA6;\n",
              "    }\n",
              "\n",
              "    [theme=dark] .colab-df-convert {\n",
              "      background-color: #3B4455;\n",
              "      fill: #D2E3FC;\n",
              "    }\n",
              "\n",
              "    [theme=dark] .colab-df-convert:hover {\n",
              "      background-color: #434B5C;\n",
              "      box-shadow: 0px 1px 3px 1px rgba(0, 0, 0, 0.15);\n",
              "      filter: drop-shadow(0px 1px 2px rgba(0, 0, 0, 0.3));\n",
              "      fill: #FFFFFF;\n",
              "    }\n",
              "  </style>\n",
              "\n",
              "      <script>\n",
              "        const buttonEl =\n",
              "          document.querySelector('#df-735b27a3-7582-40fd-8b6e-53d46b96df52 button.colab-df-convert');\n",
              "        buttonEl.style.display =\n",
              "          google.colab.kernel.accessAllowed ? 'block' : 'none';\n",
              "\n",
              "        async function convertToInteractive(key) {\n",
              "          const element = document.querySelector('#df-735b27a3-7582-40fd-8b6e-53d46b96df52');\n",
              "          const dataTable =\n",
              "            await google.colab.kernel.invokeFunction('convertToInteractive',\n",
              "                                                     [key], {});\n",
              "          if (!dataTable) return;\n",
              "\n",
              "          const docLinkHtml = 'Like what you see? Visit the ' +\n",
              "            '<a target=\"_blank\" href=https://colab.research.google.com/notebooks/data_table.ipynb>data table notebook</a>'\n",
              "            + ' to learn more about interactive tables.';\n",
              "          element.innerHTML = '';\n",
              "          dataTable['output_type'] = 'display_data';\n",
              "          await google.colab.output.renderOutput(dataTable, element);\n",
              "          const docLink = document.createElement('div');\n",
              "          docLink.innerHTML = docLinkHtml;\n",
              "          element.appendChild(docLink);\n",
              "        }\n",
              "      </script>\n",
              "    </div>\n",
              "  </div>\n",
              "  "
            ]
          },
          "metadata": {},
          "execution_count": 3
        }
      ],
      "source": [
        "#Read in the data containing weather observations from Fort Collins, Colorado for the year 2016\n",
        "df = pd.read_csv(\"/content/gdrive/MyDrive/atoc5860_applicationlab6/christman_2016.csv\")\n",
        "df"
      ],
      "id": "G9TMJD1se4Zi"
    },
    {
      "cell_type": "code",
      "execution_count": 4,
      "metadata": {
        "colab": {
          "base_uri": "https://localhost:8080/"
        },
        "id": "XRT4UYm5e4Zk",
        "outputId": "6b47d9d0-32f1-4021-f4e9-f84cfeb2eb4d"
      },
      "outputs": [
        {
          "output_type": "execute_result",
          "data": {
            "text/plain": [
              "366"
            ]
          },
          "metadata": {},
          "execution_count": 4
        }
      ],
      "source": [
        "df.day.nunique() #See how many unique days are in the dataset"
      ],
      "id": "XRT4UYm5e4Zk"
    },
    {
      "cell_type": "code",
      "execution_count": 4,
      "metadata": {
        "id": "X-IRKnCKe4Zl"
      },
      "outputs": [],
      "source": [
        "#Optional: transform the day column into a readable date. Run this ONCE.\n",
        "df['day'] = [datetime.date.fromordinal(day+693594) for day in df['day']]"
      ],
      "id": "X-IRKnCKe4Zl"
    },
    {
      "cell_type": "markdown",
      "metadata": {
        "id": "JstJJo0fe4Zm"
      },
      "source": [
        "## STEP 2: Data and Function Preparation\n",
        "\n",
        "Data preparation is a huge part of building Machine Learning model \"pipelines\". Carefully think through building & training a Machine Learning model before you run it. There are a few statistical \"gotchas\" that may result in your model being biased, inaccurate, or not suitable for the problem at hand.  Address these 6 questions!\n",
        "\n",
        "**Q1: What exactly are we trying to predict? A value, an outcome, a category?** Define your predictors and predictand. Relate these to your hypothesis or overarching question. In our case, our predictand is the likelihood of precipitation. We will build models to predict the likelihood that it's currently precipitating, given current atmospheric conditions.\n",
        "\n",
        "**Q2: Do you have any missing data? If so, how will you handle them?** Keep in mind, decreasing the number of input observations may bias your model. Using the Christman dataset, we have no missing data.\n",
        "\n",
        "**Q3: Do you have any categorical or non-numeric variables or features?** If so, you must figure out how to encode them into numbers. Luckily, in the geosciences, we rarely run into this problem.\n",
        "\n",
        "**Q4: How will we validate our model?** Typically, people split their existing data into training data and testing data, or perform \"cross-validation\" or a \"test-train split\". That is, we will \"hold out\" some data and call it our \"testing data\", while using the rest of the data to train our model (i.e., \"training data\"). Once our model is trained, we will evaluate its performance with the holdout testing data. Note: This could be problematic if there is limited data.\n",
        "\n",
        "**Q5: Do your features have the same variance?** You need to consider this to ensure your model doesn't overly depend on one variable with large variance. This step is called \"feature scaling\". Features of the same size also speed up the Gradient Descent algorithm.\n",
        "\n",
        "**Q6: If classification is the goal, are there the same number of observations for each feature and outcome? If not, how will you rebalance?** Here, the Christman dataset has same number of observations (8784) for each feature. But, times with no precipitation are way more common than times with precipitation. To deal with this issue, we will oversample the observations associated with precip so that the two outcomes (or \"classes\") are equal. Note: It's important that feature scaling or normalization is performed before any rebalancing so that the qualitative statistics (mean, stddev, etc) remain the same.\n",
        "\n",
        "**Q7: Which metrics are appropriate for assessing your model?** Consider the bias-variance trade-off, and whether having false positives or false negatives is more impactful. In our case, predicting no rain when there is rain (false negative) is probably more frustrating and potentially more impactful than the other way around (a false positive)."
      ],
      "id": "JstJJo0fe4Zm"
    },
    {
      "cell_type": "markdown",
      "metadata": {
        "id": "ULHlrvVje4Zn"
      },
      "source": [
        "**Q1. What exactly are you trying to predict?**\n",
        "\n",
        "First, split data into predictor & predictands. "
      ],
      "id": "ULHlrvVje4Zn"
    },
    {
      "cell_type": "code",
      "execution_count": 5,
      "metadata": {
        "colab": {
          "base_uri": "https://localhost:8080/",
          "height": 419
        },
        "id": "p88wEevte4Zp",
        "outputId": "d04a8e8d-ce97-4ce6-9048-43d8435bb6ac"
      },
      "outputs": [
        {
          "output_type": "execute_result",
          "data": {
            "text/plain": [
              "      temp_F    RH  dewtemp_F  wind_mph  wind_dir  windgust  windgust_dir  \\\n",
              "0        7.0  72.2       -0.1       1.2       234       3.9           224   \n",
              "1        5.4  74.3       -1.0       3.4       299       7.1           302   \n",
              "2        6.4  73.8       -0.2       2.8       200       7.0           301   \n",
              "3        3.0  73.5       -3.6       2.9       309       6.1           349   \n",
              "4        3.7  76.9       -1.9       3.1       346       5.3           255   \n",
              "...      ...   ...        ...       ...       ...       ...           ...   \n",
              "8779    22.3  74.3       15.4       0.9       221       3.3           202   \n",
              "8780    20.3  80.4       15.3       0.6       279       2.9           279   \n",
              "8781    19.9  81.1       15.1       0.5       197       2.5           279   \n",
              "8782    17.8  82.8       13.5       2.0       353       4.8           352   \n",
              "8783    16.3  84.1       12.4       1.0       191       4.9           353   \n",
              "\n",
              "      pres_Hg  SOLIN_Wm2  prec_occur  \n",
              "0      851.30        0.0           0  \n",
              "1      850.82        0.0           0  \n",
              "2      849.83        0.0           0  \n",
              "3      850.69        0.0           0  \n",
              "4      848.24        0.0           0  \n",
              "...       ...        ...         ...  \n",
              "8779   833.32        0.0           0  \n",
              "8780   833.45        0.1           0  \n",
              "8781   833.01        0.1           0  \n",
              "8782   832.78        0.1           0  \n",
              "8783   832.62        0.0           0  \n",
              "\n",
              "[8784 rows x 10 columns]"
            ],
            "text/html": [
              "\n",
              "  <div id=\"df-de135c3f-ce84-49ed-9fe2-0a2a2c69004f\">\n",
              "    <div class=\"colab-df-container\">\n",
              "      <div>\n",
              "<style scoped>\n",
              "    .dataframe tbody tr th:only-of-type {\n",
              "        vertical-align: middle;\n",
              "    }\n",
              "\n",
              "    .dataframe tbody tr th {\n",
              "        vertical-align: top;\n",
              "    }\n",
              "\n",
              "    .dataframe thead th {\n",
              "        text-align: right;\n",
              "    }\n",
              "</style>\n",
              "<table border=\"1\" class=\"dataframe\">\n",
              "  <thead>\n",
              "    <tr style=\"text-align: right;\">\n",
              "      <th></th>\n",
              "      <th>temp_F</th>\n",
              "      <th>RH</th>\n",
              "      <th>dewtemp_F</th>\n",
              "      <th>wind_mph</th>\n",
              "      <th>wind_dir</th>\n",
              "      <th>windgust</th>\n",
              "      <th>windgust_dir</th>\n",
              "      <th>pres_Hg</th>\n",
              "      <th>SOLIN_Wm2</th>\n",
              "      <th>prec_occur</th>\n",
              "    </tr>\n",
              "  </thead>\n",
              "  <tbody>\n",
              "    <tr>\n",
              "      <th>0</th>\n",
              "      <td>7.0</td>\n",
              "      <td>72.2</td>\n",
              "      <td>-0.1</td>\n",
              "      <td>1.2</td>\n",
              "      <td>234</td>\n",
              "      <td>3.9</td>\n",
              "      <td>224</td>\n",
              "      <td>851.30</td>\n",
              "      <td>0.0</td>\n",
              "      <td>0</td>\n",
              "    </tr>\n",
              "    <tr>\n",
              "      <th>1</th>\n",
              "      <td>5.4</td>\n",
              "      <td>74.3</td>\n",
              "      <td>-1.0</td>\n",
              "      <td>3.4</td>\n",
              "      <td>299</td>\n",
              "      <td>7.1</td>\n",
              "      <td>302</td>\n",
              "      <td>850.82</td>\n",
              "      <td>0.0</td>\n",
              "      <td>0</td>\n",
              "    </tr>\n",
              "    <tr>\n",
              "      <th>2</th>\n",
              "      <td>6.4</td>\n",
              "      <td>73.8</td>\n",
              "      <td>-0.2</td>\n",
              "      <td>2.8</td>\n",
              "      <td>200</td>\n",
              "      <td>7.0</td>\n",
              "      <td>301</td>\n",
              "      <td>849.83</td>\n",
              "      <td>0.0</td>\n",
              "      <td>0</td>\n",
              "    </tr>\n",
              "    <tr>\n",
              "      <th>3</th>\n",
              "      <td>3.0</td>\n",
              "      <td>73.5</td>\n",
              "      <td>-3.6</td>\n",
              "      <td>2.9</td>\n",
              "      <td>309</td>\n",
              "      <td>6.1</td>\n",
              "      <td>349</td>\n",
              "      <td>850.69</td>\n",
              "      <td>0.0</td>\n",
              "      <td>0</td>\n",
              "    </tr>\n",
              "    <tr>\n",
              "      <th>4</th>\n",
              "      <td>3.7</td>\n",
              "      <td>76.9</td>\n",
              "      <td>-1.9</td>\n",
              "      <td>3.1</td>\n",
              "      <td>346</td>\n",
              "      <td>5.3</td>\n",
              "      <td>255</td>\n",
              "      <td>848.24</td>\n",
              "      <td>0.0</td>\n",
              "      <td>0</td>\n",
              "    </tr>\n",
              "    <tr>\n",
              "      <th>...</th>\n",
              "      <td>...</td>\n",
              "      <td>...</td>\n",
              "      <td>...</td>\n",
              "      <td>...</td>\n",
              "      <td>...</td>\n",
              "      <td>...</td>\n",
              "      <td>...</td>\n",
              "      <td>...</td>\n",
              "      <td>...</td>\n",
              "      <td>...</td>\n",
              "    </tr>\n",
              "    <tr>\n",
              "      <th>8779</th>\n",
              "      <td>22.3</td>\n",
              "      <td>74.3</td>\n",
              "      <td>15.4</td>\n",
              "      <td>0.9</td>\n",
              "      <td>221</td>\n",
              "      <td>3.3</td>\n",
              "      <td>202</td>\n",
              "      <td>833.32</td>\n",
              "      <td>0.0</td>\n",
              "      <td>0</td>\n",
              "    </tr>\n",
              "    <tr>\n",
              "      <th>8780</th>\n",
              "      <td>20.3</td>\n",
              "      <td>80.4</td>\n",
              "      <td>15.3</td>\n",
              "      <td>0.6</td>\n",
              "      <td>279</td>\n",
              "      <td>2.9</td>\n",
              "      <td>279</td>\n",
              "      <td>833.45</td>\n",
              "      <td>0.1</td>\n",
              "      <td>0</td>\n",
              "    </tr>\n",
              "    <tr>\n",
              "      <th>8781</th>\n",
              "      <td>19.9</td>\n",
              "      <td>81.1</td>\n",
              "      <td>15.1</td>\n",
              "      <td>0.5</td>\n",
              "      <td>197</td>\n",
              "      <td>2.5</td>\n",
              "      <td>279</td>\n",
              "      <td>833.01</td>\n",
              "      <td>0.1</td>\n",
              "      <td>0</td>\n",
              "    </tr>\n",
              "    <tr>\n",
              "      <th>8782</th>\n",
              "      <td>17.8</td>\n",
              "      <td>82.8</td>\n",
              "      <td>13.5</td>\n",
              "      <td>2.0</td>\n",
              "      <td>353</td>\n",
              "      <td>4.8</td>\n",
              "      <td>352</td>\n",
              "      <td>832.78</td>\n",
              "      <td>0.1</td>\n",
              "      <td>0</td>\n",
              "    </tr>\n",
              "    <tr>\n",
              "      <th>8783</th>\n",
              "      <td>16.3</td>\n",
              "      <td>84.1</td>\n",
              "      <td>12.4</td>\n",
              "      <td>1.0</td>\n",
              "      <td>191</td>\n",
              "      <td>4.9</td>\n",
              "      <td>353</td>\n",
              "      <td>832.62</td>\n",
              "      <td>0.0</td>\n",
              "      <td>0</td>\n",
              "    </tr>\n",
              "  </tbody>\n",
              "</table>\n",
              "<p>8784 rows × 10 columns</p>\n",
              "</div>\n",
              "      <button class=\"colab-df-convert\" onclick=\"convertToInteractive('df-de135c3f-ce84-49ed-9fe2-0a2a2c69004f')\"\n",
              "              title=\"Convert this dataframe to an interactive table.\"\n",
              "              style=\"display:none;\">\n",
              "        \n",
              "  <svg xmlns=\"http://www.w3.org/2000/svg\" height=\"24px\"viewBox=\"0 0 24 24\"\n",
              "       width=\"24px\">\n",
              "    <path d=\"M0 0h24v24H0V0z\" fill=\"none\"/>\n",
              "    <path d=\"M18.56 5.44l.94 2.06.94-2.06 2.06-.94-2.06-.94-.94-2.06-.94 2.06-2.06.94zm-11 1L8.5 8.5l.94-2.06 2.06-.94-2.06-.94L8.5 2.5l-.94 2.06-2.06.94zm10 10l.94 2.06.94-2.06 2.06-.94-2.06-.94-.94-2.06-.94 2.06-2.06.94z\"/><path d=\"M17.41 7.96l-1.37-1.37c-.4-.4-.92-.59-1.43-.59-.52 0-1.04.2-1.43.59L10.3 9.45l-7.72 7.72c-.78.78-.78 2.05 0 2.83L4 21.41c.39.39.9.59 1.41.59.51 0 1.02-.2 1.41-.59l7.78-7.78 2.81-2.81c.8-.78.8-2.07 0-2.86zM5.41 20L4 18.59l7.72-7.72 1.47 1.35L5.41 20z\"/>\n",
              "  </svg>\n",
              "      </button>\n",
              "      \n",
              "  <style>\n",
              "    .colab-df-container {\n",
              "      display:flex;\n",
              "      flex-wrap:wrap;\n",
              "      gap: 12px;\n",
              "    }\n",
              "\n",
              "    .colab-df-convert {\n",
              "      background-color: #E8F0FE;\n",
              "      border: none;\n",
              "      border-radius: 50%;\n",
              "      cursor: pointer;\n",
              "      display: none;\n",
              "      fill: #1967D2;\n",
              "      height: 32px;\n",
              "      padding: 0 0 0 0;\n",
              "      width: 32px;\n",
              "    }\n",
              "\n",
              "    .colab-df-convert:hover {\n",
              "      background-color: #E2EBFA;\n",
              "      box-shadow: 0px 1px 2px rgba(60, 64, 67, 0.3), 0px 1px 3px 1px rgba(60, 64, 67, 0.15);\n",
              "      fill: #174EA6;\n",
              "    }\n",
              "\n",
              "    [theme=dark] .colab-df-convert {\n",
              "      background-color: #3B4455;\n",
              "      fill: #D2E3FC;\n",
              "    }\n",
              "\n",
              "    [theme=dark] .colab-df-convert:hover {\n",
              "      background-color: #434B5C;\n",
              "      box-shadow: 0px 1px 3px 1px rgba(0, 0, 0, 0.15);\n",
              "      filter: drop-shadow(0px 1px 2px rgba(0, 0, 0, 0.3));\n",
              "      fill: #FFFFFF;\n",
              "    }\n",
              "  </style>\n",
              "\n",
              "      <script>\n",
              "        const buttonEl =\n",
              "          document.querySelector('#df-de135c3f-ce84-49ed-9fe2-0a2a2c69004f button.colab-df-convert');\n",
              "        buttonEl.style.display =\n",
              "          google.colab.kernel.accessAllowed ? 'block' : 'none';\n",
              "\n",
              "        async function convertToInteractive(key) {\n",
              "          const element = document.querySelector('#df-de135c3f-ce84-49ed-9fe2-0a2a2c69004f');\n",
              "          const dataTable =\n",
              "            await google.colab.kernel.invokeFunction('convertToInteractive',\n",
              "                                                     [key], {});\n",
              "          if (!dataTable) return;\n",
              "\n",
              "          const docLinkHtml = 'Like what you see? Visit the ' +\n",
              "            '<a target=\"_blank\" href=https://colab.research.google.com/notebooks/data_table.ipynb>data table notebook</a>'\n",
              "            + ' to learn more about interactive tables.';\n",
              "          element.innerHTML = '';\n",
              "          dataTable['output_type'] = 'display_data';\n",
              "          await google.colab.output.renderOutput(dataTable, element);\n",
              "          const docLink = document.createElement('div');\n",
              "          docLink.innerHTML = docLinkHtml;\n",
              "          element.appendChild(docLink);\n",
              "        }\n",
              "      </script>\n",
              "    </div>\n",
              "  </div>\n",
              "  "
            ]
          },
          "metadata": {},
          "execution_count": 5
        }
      ],
      "source": [
        "##Create a new feature that indicates whether precipitation occurred. Perform this step ONCE.\n",
        "#print(df.columns) # print if you need to see what is the variable called that indicates precipitation amount?\n",
        "df['prec_occur'] = np.array(df.Prec_inches!=0).astype(int)\n",
        "\n",
        "#Next, select the data that will be predictors.\n",
        "predictors = df.copy(deep=True)  # here, we use \"deep = True\" so that changes to predictors won't be made to the df.\n",
        "\n",
        "#Next, we \"drop\" (or remove) some variables that shouldn't be used to predict whether or not there is rain.\n",
        "predictors = df.drop(['day','hour','Prec_inches'],axis=1) \n",
        "predictors"
      ],
      "id": "p88wEevte4Zp"
    },
    {
      "cell_type": "code",
      "execution_count": 6,
      "metadata": {
        "id": "5Ffe7xaZe4Zq"
      },
      "outputs": [],
      "source": [
        "#Now we save everything but the indicator of whether or not precipitation (\"prec_occur\") occurred \n",
        "#to be the predictor array \"x\"\n",
        "#The indicator (\"prec_occur\") will be the predictand vector \"y\".\n",
        "\n",
        "x = predictors.drop('prec_occur',axis=1)\n",
        "y = predictors.prec_occur"
      ],
      "id": "5Ffe7xaZe4Zq"
    },
    {
      "cell_type": "markdown",
      "metadata": {
        "id": "wTUqkhq2e4Zq"
      },
      "source": [
        "**Q2 & Q3 do not need to be addressed in our dataset.**"
      ],
      "id": "wTUqkhq2e4Zq"
    },
    {
      "cell_type": "markdown",
      "metadata": {
        "id": "OEaCHkfVe4Zr"
      },
      "source": [
        "**Q4. How will you validate your model?**\n",
        "\n",
        "We will perform a test-train split to validate our trained model. This step must be performed before each time the model is trained to ensure we are not baking in any bias among the models we train. That also means the following two steps must also be performed prior to training each model as well. For this reason, we write functions to call \n",
        "easily before each model training."
      ],
      "id": "OEaCHkfVe4Zr"
    },
    {
      "cell_type": "code",
      "execution_count": 7,
      "metadata": {
        "id": "CoxAd133e4Zr"
      },
      "outputs": [],
      "source": [
        "from sklearn.model_selection import train_test_split\n",
        "from random import randint"
      ],
      "id": "CoxAd133e4Zr"
    },
    {
      "cell_type": "code",
      "execution_count": 8,
      "metadata": {
        "id": "sbDtlhute4Zs"
      },
      "outputs": [],
      "source": [
        "def define_holdout_data(x, y, verbose):\n",
        "    \"\"\"Perform a 80/20 test-train split (80% of data is training, 20% is testing). Split is randomized with each call.\"\"\"\n",
        "    random_state = randint(0,1000)\n",
        "    x_train, x_test, y_train, y_test = train_test_split(x, y, test_size=0.20, random_state=random_state)\n",
        "    if verbose==True:\n",
        "        print(\"Prior to scaling and rebalancing...\")\n",
        "        print(\"Shape of training predictors: \"+str(np.shape(x_train)))\n",
        "        print(\"Shape of testing predictors: \"+str(np.shape(x_test)))\n",
        "        print(\"Shape of training predictands: \"+str(np.shape(y_train)))\n",
        "        print(\"Shape of testing predictands: \"+str(np.shape(y_test)))\n",
        "        print(\" \")\n",
        "    return x_train, x_test, y_train, y_test"
      ],
      "id": "sbDtlhute4Zs"
    },
    {
      "cell_type": "markdown",
      "metadata": {
        "id": "zbfrp1-3e4Zs"
      },
      "source": [
        "**Q5. Do your features have the same variance?**\n",
        "\n",
        "We must normalize the features. In machine learning this is called \"Feature Scaling\". We do this so that the features with the largest variance are not weighted more heavily than those with less variance. Note: If our predictand wasn't binary, then we would normalize it as well.\n",
        "\n",
        "We'll keep the data as a pandas dataframe rather than converting it to a numpy array beforehand. The \"fit_transform\" function outputs a numpy array, but we will convert back to a dataframe so that re-balancing the dataset is easier."
      ],
      "id": "zbfrp1-3e4Zs"
    },
    {
      "cell_type": "code",
      "execution_count": 9,
      "metadata": {
        "id": "zVRP1NkOe4Zs"
      },
      "outputs": [],
      "source": [
        "from sklearn import preprocessing"
      ],
      "id": "zVRP1NkOe4Zs"
    },
    {
      "cell_type": "code",
      "execution_count": 10,
      "metadata": {
        "id": "RxJ-Ezqoe4Zt"
      },
      "outputs": [],
      "source": [
        "def scale_data(x_train, x_test):\n",
        "    \"\"\"\n",
        "    Scale training data so that model reaches optimized weights much faster. \n",
        "    \n",
        "    *All data that enters the model should use the same scaling used to scale the training data.*\n",
        "    Thus, we also perform scaling on testing data for validation later. \n",
        "    Additionally, we return the scaler used to scale any other future input data.\n",
        "    \"\"\"\n",
        "    \n",
        "    scaler = preprocessing.MinMaxScaler() # normalize \n",
        "    x_train_scaled = pd.DataFrame(data=scaler.fit_transform(x_train),index=x_train.index,columns=x_train.columns) \n",
        "    x_test_scaled = pd.DataFrame(data=scaler.transform(x_test),index=x_test.index,columns=x_test.columns)\n",
        "    \n",
        "    return scaler, x_train_scaled, x_test_scaled"
      ],
      "id": "RxJ-Ezqoe4Zt"
    },
    {
      "cell_type": "markdown",
      "metadata": {
        "id": "1s9KJTzSe4Zt"
      },
      "source": [
        "**Q6. Are there the same number of observations for each outcome or class?**\n",
        "Luckily, we have the same number of observations for each feature (8784). But do we have the same number of outcomes for our predictand?"
      ],
      "id": "1s9KJTzSe4Zt"
    },
    {
      "cell_type": "code",
      "execution_count": 11,
      "metadata": {
        "id": "lN8VR3OUe4Zu",
        "outputId": "8ad52b09-d726-4f21-d69d-cce2f0fc7609",
        "colab": {
          "base_uri": "https://localhost:8080/"
        }
      },
      "outputs": [
        {
          "output_type": "execute_result",
          "data": {
            "text/plain": [
              "0    8501\n",
              "1     283\n",
              "Name: prec_occur, dtype: int64"
            ]
          },
          "metadata": {},
          "execution_count": 11
        }
      ],
      "source": [
        "df['prec_occur'].value_counts()"
      ],
      "id": "lN8VR3OUe4Zu"
    },
    {
      "cell_type": "markdown",
      "metadata": {
        "id": "hpw1Cq7-e4Zu"
      },
      "source": [
        "**Answer:** Definitely not. The outcomes we are trying to predict are extremely unbalanced. Non-precip hours occur 30x more than precip hours. This class imbalance may bias the model because precip hours are underrepresented, which means the model won't have as many instances of precip hours to learn to distinguish precip hours from non-precip hours.\n",
        "\n",
        "There are a number of out-of-the-box functions that resample data very precisely. The one I use below simply randomly oversamples the existing precipitating observation data to balance the dataset.\n",
        "\n",
        "Note: This function should be called on both training and testing data separately."
      ],
      "id": "hpw1Cq7-e4Zu"
    },
    {
      "cell_type": "code",
      "execution_count": 12,
      "metadata": {
        "id": "6RRO8Qkre4Zv"
      },
      "outputs": [],
      "source": [
        "from sklearn.utils import resample"
      ],
      "id": "6RRO8Qkre4Zv"
    },
    {
      "cell_type": "code",
      "execution_count": 21,
      "metadata": {
        "id": "sO-8-kBPe4Zv"
      },
      "outputs": [],
      "source": [
        "def balance_data(x,y,verbose):\n",
        "    \"\"\"Resample data ensure model is not biased towards a particular outcome of precip or no precip.\"\"\"\n",
        "    # Combine again to one dataframe to ensure both the predictor and predictand are resampled from the same \n",
        "    # observations based on predictand outcomes. \n",
        "    dataset = pd.concat([x, y],axis=1)\n",
        "\n",
        "    # Separating classes\n",
        "    raining = dataset[dataset['prec_occur'] == 1]\n",
        "    not_raining = dataset[dataset['prec_occur'] == 0]\n",
        "\n",
        "    random_state = randint(0,1000)\n",
        "    oversample = resample(raining, \n",
        "                           replace=True, \n",
        "                           n_samples=len(not_raining), #set the number of samples to equal the number of the majority class\n",
        "                           random_state=random_state)\n",
        "\n",
        "    # Returning to new training set\n",
        "    oversample_dataset = pd.concat([not_raining, oversample])\n",
        "\n",
        "    # reseparate oversampled data into X and y sets\n",
        "    x_bal = oversample_dataset.drop(['prec_occur'], axis=1)\n",
        "    y_bal = oversample_dataset['prec_occur']\n",
        "\n",
        "    if verbose==True:\n",
        "        print(\"After scaling and rebalancing...\")\n",
        "        print(\"Shape of predictors: \"+str(np.shape(x_bal)))\n",
        "        print(\"Shape of predictands: \"+str(np.shape(y_bal)))\n",
        "        print(\" \")\n",
        "    \n",
        "    return x_bal, y_bal"
      ],
      "id": "sO-8-kBPe4Zv"
    },
    {
      "cell_type": "markdown",
      "metadata": {
        "id": "cf_yArtve4Zw"
      },
      "source": [
        "**For ease, let's put the data prep code from questions 1-6 into a pipeline.  In other words we will write a single function to accomplish everything we have done so far in this notebook.**\n"
      ],
      "id": "cf_yArtve4Zw"
    },
    {
      "cell_type": "code",
      "execution_count": 22,
      "metadata": {
        "id": "V2DH1C8He4Zw"
      },
      "outputs": [],
      "source": [
        "def dataprep_pipeline(x, y, verbose):\n",
        "    \"\"\" Combines all the functions defined above so that the user only has to \n",
        "    call one function to do all data pre-processing. \"\"\"\n",
        "    # verbose=True prints the shapes of input & output data\n",
        "\n",
        "    # split into training & testing data\n",
        "    x_train, x_test, y_train, y_test = define_holdout_data(x, y, verbose) \n",
        "\n",
        "    # perform feature scaling\n",
        "    scaler, x_train_scaled, x_test_scaled = scale_data(x_train, x_test)\n",
        "\n",
        "    # rebalance according to outcomes (i.e., the number of precipitating \n",
        "    # observations & non-precipitating outcomes should be equal)\n",
        "    if verbose==True:\n",
        "        print(\"for training data... \")\n",
        "    x_train_bal, y_train_bal = balance_data(x_train_scaled, y_train, verbose)\n",
        "    if verbose==True:\n",
        "        print(\"for testing data... \")\n",
        "    x_test_bal, y_test_bal = balance_data(x_test_scaled, y_test, verbose)\n",
        "    \n",
        "    return x_train_bal, y_train_bal, x_test_bal, y_test_bal"
      ],
      "id": "V2DH1C8He4Zw"
    },
    {
      "cell_type": "markdown",
      "metadata": {
        "id": "M4ru_-oxe4Zx"
      },
      "source": [
        "**Q7. What are the appropriate metrics for assessing your model?**\n",
        "These metrics will be used to evaluate each model after training."
      ],
      "id": "M4ru_-oxe4Zx"
    },
    {
      "cell_type": "markdown",
      "metadata": {
        "id": "VgQVgjDXe4Zx"
      },
      "source": [
        "Below are some commonly-used metrics for assessing the value of a given Machine Learning model.\n",
        "\n",
        "\"**True Positive (TP)**\" Is the number of times the model predicts a positive when the observation is actually positive. In our case, the model predicts that its raining when it is actually raining.<br>\n",
        "\"**False Positive (FP)**\" The number of times the model guesses that it's raining when it's not actually raining.<br>\n",
        "The same applies to **True Negatives (TN)** (correctly predicting that it's not raining) and **False Negatives (FN)** (predicting no rain when it's actually raining).\n",
        "\n",
        "\n",
        " - **Precision = TP/(TP + FP)**: The proportion of predicted precipitating events that are actually precipitating.\n",
        " - **Accuracy = (TP + TN)/(total)**: The proportion of precipitating hours or non-precipitating hours that are correctly predicted by the model.\n",
        " - **Recall = TP/(TP + FN)**: The proportion of precipitating hours that are correctly predicted by the model.<br>\n",
        "<br>\n",
        "Other important metrics that we aren't going to look at today:\n",
        " - **F1**: a way to capture how well the model predicts the hours that it's actually precipitating.\n",
        " - **ROC/AUC**: how well the model separates precipitating hours from non-precipitating hours."
      ],
      "id": "VgQVgjDXe4Zx"
    },
    {
      "cell_type": "code",
      "execution_count": 23,
      "metadata": {
        "id": "a2-YsjQMe4Zx"
      },
      "outputs": [],
      "source": [
        "from sklearn import metrics\n",
        "from sklearn.metrics import accuracy_score, f1_score, precision_score, recall_score, roc_auc_score, confusion_matrix\n",
        "import matplotlib.pyplot as plt\n",
        "import seaborn as sns"
      ],
      "id": "a2-YsjQMe4Zx"
    },
    {
      "cell_type": "code",
      "execution_count": 24,
      "metadata": {
        "id": "iHo0f6WJe4Zy"
      },
      "outputs": [],
      "source": [
        "# Print rounded metrics for each model.\n",
        "def bin_metrics(x, y):\n",
        "    \"\"\"Prints accuracy and recall metrics for evaluating \n",
        "    classification predictions.\"\"\"\n",
        "    \n",
        "    accuracy = metrics.accuracy_score(x, y)\n",
        "    recall = metrics.recall_score(x, y)\n",
        "\n",
        "    print('Accuracy:', round(accuracy, 4))\n",
        "    print('Recall:', round(recall, 4))\n",
        "    \n",
        "    return accuracy, recall\n",
        "\n",
        "\n",
        "# Plot confusion matrix\n",
        "def plot_cm(x, y):\n",
        "    \"\"\"Plots the confusion matrix to visualize true \n",
        "    & false positives & negatives\"\"\"\n",
        "    cm = confusion_matrix(x, y)\n",
        "    df_cm = pd.DataFrame(cm, columns=np.unique(x), index = np.unique(x))\n",
        "    df_cm.index.name = 'Actual'\n",
        "    df_cm.columns.name = 'Predicted'\n",
        "    sns.heatmap(df_cm, cmap=\"Blues\", annot=True,annot_kws={\"size\": 25}, fmt='g')# font size\n",
        "    plt.ylim([0, 2])\n",
        "    plt.xticks([0.5, 1.5], ['Negatives','Positives'])\n",
        "    plt.yticks([0.5, 1.5], ['Negatives','Positives'])"
      ],
      "id": "iHo0f6WJe4Zy"
    },
    {
      "cell_type": "markdown",
      "metadata": {
        "id": "sWdrkqRue4Zy"
      },
      "source": [
        "Another way we can evaluate the models is to compare precipitation likelihood given the same set of atmospheric conditions.  First, let's choose some observation in the pre-scaled dataset shows that it's raining, and then find the corresponding scaled observation:"
      ],
      "id": "sWdrkqRue4Zy"
    },
    {
      "cell_type": "code",
      "execution_count": 25,
      "metadata": {
        "id": "XmWTfghse4Zy"
      },
      "outputs": [],
      "source": [
        "def rand_atmos_conditions_precip(index='rand'):\n",
        "    \"\"\"\n",
        "    Function returns atmospheric conditions in a dataframe as well as the scaled\n",
        "    conditions in a numpy array so that they output a prediction in the model.\n",
        "    \n",
        "    If no input is passed, the function will randomly generate an index to \n",
        "    choose from those observations in some training data with precipitation. \n",
        "    Otherwise, an integer index between 0 and 200 should be passed.\n",
        "    \"\"\"\n",
        "    # First, perform a test-train split\n",
        "    x_train, x_test, y_train, _ = define_holdout_data(x, y, verbose=False) \n",
        "\n",
        "    # perform feature scaling\n",
        "    _, x_train_scaled, _ = scale_data(x_train, x_test)\n",
        "\n",
        "    # this is what will go into the model to output a prediction\n",
        "    if index=='rand':\n",
        "        index = randint(0,len(y_train[y_train==1].index)) \n",
        "    precipindex = y_train[y_train==1].index.values[index]\n",
        "    testpredictor = x_train_scaled.loc[precipindex] \n",
        "    \n",
        "    return df.iloc[precipindex], testpredictor    "
      ],
      "id": "XmWTfghse4Zy"
    },
    {
      "cell_type": "markdown",
      "metadata": {
        "id": "w55krGCIe4Zz"
      },
      "source": [
        "## STEP 3: Train & Compare Machine Learning Models\n",
        "Each section below goes through building and training a ML model. In each section, there are a few steps for each model \"pipeline\":\n",
        "1. __Randomly perform a test-train split, feature scaling, and resample data to ensure outcomes are balanced__. \n",
        "2. __Train your model__.\n",
        "3. __Assess model metrics with testing and training data__. We begin by first assessing each model's performance by calculating the metrics defined above on the *testing* or *holdout* data; the key here is that the model has never seen this data. <br>__If applicable, tune your model.__ This means choosing new *hyperparameters*, retraining the model, and then reassessing the same model metrics to see if the model yields better results.\n",
        "3. __Check for model overfitting__. We will also check to see if the model is overfitting by comparing metrics of the testing data to that of the training data. In short, the training data should not be outperforming the testing data.\n",
        "4. __Actually make a prediction with a single observation__. Predicted precipitation probability provides a sanity test for us to make sure the model isn't way off base. It allows us to see for ourselves: given X meteorological conditions and our own understanding of meteorology, would rain seem likely? Is the model actually doing something realistic?"
      ],
      "id": "w55krGCIe4Zz"
    },
    {
      "cell_type": "markdown",
      "metadata": {
        "id": "SJgKrvvGe4Zz"
      },
      "source": [
        "## Model 1: Logistic Regression"
      ],
      "id": "SJgKrvvGe4Zz"
    },
    {
      "cell_type": "code",
      "execution_count": 26,
      "metadata": {
        "id": "MNdTJKKZe4Z0"
      },
      "outputs": [],
      "source": [
        "from sklearn.linear_model import LogisticRegression"
      ],
      "id": "MNdTJKKZe4Z0"
    },
    {
      "cell_type": "code",
      "execution_count": 27,
      "metadata": {
        "id": "SCku2tv5e4Z0",
        "outputId": "560d438f-4cf1-419c-d9fc-0baa690c26f7",
        "colab": {
          "base_uri": "https://localhost:8080/"
        }
      },
      "outputs": [
        {
          "output_type": "stream",
          "name": "stdout",
          "text": [
            "Prior to scaling and rebalacing...\n",
            "Shape of training predictors: (7027, 9)\n",
            "Shape of testing predictors: (1757, 9)\n",
            "Shape of training predictands: (7027,)\n",
            "Shape of testing predictands: (1757,)\n",
            " \n",
            "for training data... \n",
            "After scaling and rebalancing...\n",
            "Shape of predictors: (13586, 9)\n",
            "Shape of predictands: (13586,)\n",
            " \n",
            "for testing data... \n",
            "After scaling and rebalancing...\n",
            "Shape of predictors: (3416, 9)\n",
            "Shape of predictands: (3416,)\n",
            " \n"
          ]
        }
      ],
      "source": [
        "## 1. Perform a test-train split, perform feature scaling, and the rebalance our dataset.\n",
        "x_train_bal, y_train_bal, x_test_bal, y_test_bal = dataprep_pipeline(x, y, verbose=True)"
      ],
      "id": "SCku2tv5e4Z0"
    },
    {
      "cell_type": "code",
      "execution_count": 28,
      "metadata": {
        "id": "VHZ0JiBDe4Z1"
      },
      "outputs": [],
      "source": [
        "## 2. Train the Logistic Regression model\n",
        "\n",
        "# initialize the model\n",
        "lr = LogisticRegression(solver='lbfgs') \n",
        "# we choose this particular solver because we're not regularizing or penalizing certain features\n",
        "\n",
        "# fit the model to scaled & balanced training data. Side note: this is where *Gradient Descent* occurs.\n",
        "lr.fit(x_train_bal, y_train_bal);"
      ],
      "id": "VHZ0JiBDe4Z1"
    },
    {
      "cell_type": "code",
      "execution_count": 29,
      "metadata": {
        "id": "ISnwBkfYe4Z2",
        "outputId": "c49288d4-5237-4f1c-b6ae-1932a9b4d49d",
        "colab": {
          "base_uri": "https://localhost:8080/"
        }
      },
      "outputs": [
        {
          "output_type": "stream",
          "name": "stdout",
          "text": [
            "Accuracy: 0.8393\n",
            "Recall: 0.8671\n"
          ]
        }
      ],
      "source": [
        "## 3. Assess Logistic Regression's performance using testing data\n",
        "\n",
        "##Now that we've \"trained\" our model, we make predictions using data that the \n",
        "## model has never seen before (i.e., our holdout testing data) to see how it performs.\n",
        "\n",
        "y_pred = lr.predict(x_test_bal)\n",
        "\n",
        "# Call functions defined above to calculate metrics & plot a confusion matrix based on\n",
        "# how well model simulates testing data\n",
        "#plot_cm(y_test_bal, y_pred);\n",
        "lr_acc, lr_rec = bin_metrics(y_test_bal, y_pred)"
      ],
      "id": "ISnwBkfYe4Z2"
    },
    {
      "cell_type": "markdown",
      "metadata": {
        "id": "uKnDDHlLe4Z3"
      },
      "source": [
        "Accuracy tells is the percent of correct predictions, whether precipitating or not. The Logistic Regression model, without any additional tuning, can correctly predict whether it's precipitating or not given a set of present atmospheric conditions around 84% of the time.\n",
        "\n",
        "False Positives are less harmful than False Negatives. Thus, along with accuracy, we should also try to maximize recall.\n",
        "\n",
        "A very important aspect of tuning machine learning model is to ensure the model isn't overfitting or underfitting:\n",
        "An overfit model means the model is fit very well to the training data, but fails to generalize predictions outside the training dataset. A symptom of overfitting is that the models' training accuracy is much better than the testing accuracy. Overfitting can happen more easily in more complex models, like neural networks. To alleviate overfitting, one needs to reduce variance, through feature regularization, lowering model complexity, or performing k-folds cross-validation.\n",
        "\n",
        "Before you dive too deeply into ML and in your own time, I suggest watching this (https://www.youtube.com/watch?v=EuBBz3bI-aA) 6-minute StatQuest YouTube video to develop more intuition for model error."
      ],
      "id": "uKnDDHlLe4Z3"
    },
    {
      "cell_type": "code",
      "execution_count": 30,
      "metadata": {
        "id": "n1sFMWt_e4Z3",
        "outputId": "cb2ff5a9-0ef6-49d5-bce4-b0aafba352b1",
        "colab": {
          "base_uri": "https://localhost:8080/"
        }
      },
      "outputs": [
        {
          "output_type": "stream",
          "name": "stdout",
          "text": [
            "Training metrics:\n",
            "Accuracy: 0.8409\n",
            "Recall: 0.8593\n",
            " \n",
            "Testing metrics:\n",
            "Accuracy: 0.8393\n",
            "Recall: 0.8671\n"
          ]
        }
      ],
      "source": [
        "##4. Check to see if the Logistic Regression model is overfitting (or underfitting)\n",
        "#Remember:\n",
        "#testing metrics > training metrics = underfitting, model is too simple\n",
        "#testing metrics < training metrics = overfitting, model is too complex\n",
        "\n",
        "# Compare testing data metrics to data training metrics.\n",
        "print(\"Training metrics:\")\n",
        "pred_train= lr.predict(x_train_bal) \n",
        "bin_metrics(y_train_bal,pred_train);\n",
        "\n",
        "# As a reminder, display testing metrics:\n",
        "print(\" \")\n",
        "print(\"Testing metrics:\")\n",
        "bin_metrics(y_test_bal, y_pred);"
      ],
      "id": "n1sFMWt_e4Z3"
    },
    {
      "cell_type": "code",
      "execution_count": 33,
      "metadata": {
        "id": "B8hEUuYge4Z4",
        "outputId": "d216e59e-df3d-4794-c3e3-2c5d19751553",
        "colab": {
          "base_uri": "https://localhost:8080/"
        }
      },
      "outputs": [
        {
          "output_type": "stream",
          "name": "stdout",
          "text": [
            "temp_F          0.467568\n",
            "RH              0.954225\n",
            "dewtemp_F       0.619645\n",
            "wind_mph        0.126316\n",
            "wind_dir        0.228412\n",
            "windgust        0.142173\n",
            "windgust_dir    0.275766\n",
            "pres_Hg         0.842959\n",
            "SOLIN_Wm2       0.086653\n",
            "Name: 3224, dtype: float64\n"
          ]
        }
      ],
      "source": [
        "## 5. Make a prediction with the Logistic Regression model\n",
        "#First, we randomly choose some atmospheric conditions using the function defined above. This will be the atmospheric conditions we use for all models we build.\n",
        "\n",
        "origvals, testpredictor = rand_atmos_conditions_precip()\n",
        "#print(origvals) # observation from original dataframe\n",
        "print(testpredictor) # scaled observation"
      ],
      "id": "B8hEUuYge4Z4"
    },
    {
      "cell_type": "code",
      "execution_count": 35,
      "metadata": {
        "scrolled": true,
        "id": "r3DnhHxDe4Z4",
        "outputId": "dc620b5f-28af-4a30-e11c-a041f2924c19",
        "colab": {
          "base_uri": "https://localhost:8080/"
        }
      },
      "outputs": [
        {
          "output_type": "stream",
          "name": "stdout",
          "text": [
            "The meteorological conditions are: \n",
            "day             2016-05-14\n",
            "hour              0.333333\n",
            "temp_F                37.6\n",
            "RH                    88.8\n",
            "dewtemp_F             34.6\n",
            "wind_mph               4.8\n",
            "wind_dir                82\n",
            "windgust               8.9\n",
            "windgust_dir            99\n",
            "pres_Hg             849.54\n",
            "SOLIN_Wm2             83.1\n",
            "Prec_inches           0.01\n",
            "prec_occur               1\n",
            "Name: 3224, dtype: object\n",
            " \n",
            "There is a 85.18% chance of precipitation given those meteorological conditions.\n"
          ]
        },
        {
          "output_type": "stream",
          "name": "stderr",
          "text": [
            "/usr/local/lib/python3.10/dist-packages/sklearn/base.py:439: UserWarning: X does not have valid feature names, but LogisticRegression was fitted with feature names\n",
            "  warnings.warn(\n"
          ]
        }
      ],
      "source": [
        "# prediction output is in the format [probability no rain, probability rain]\n",
        "lr_prediction = lr.predict_proba(np.array(testpredictor).reshape(1, -1))[0][1]*100 \n",
        "print(\"The meteorological conditions are: \")\n",
        "print(origvals)\n",
        "print(\" \")\n",
        "print(\"There is a {0:.{digits}f}% chance of precipitation given those meteorological conditions.\".format(lr_prediction, digits=2))"
      ],
      "id": "r3DnhHxDe4Z4"
    },
    {
      "cell_type": "markdown",
      "metadata": {
        "id": "GHq6a6r3e4Z5"
      },
      "source": [
        "## Model 2: Random Forest\n",
        "\n",
        "To understand random forests, one must first understand a [decision tree](https://scikit-learn.org/stable/modules/tree.html#tree). A decision tree is intuitive: it is essentially a flowchart to point to an outcome based on \"decisions\" for each feature. A Random Forest is an ensemble of decision trees that are randomly constructed based on the features of the dataset and number of decisions. Trees are constructed by randomly choosing a feature to \"seed\" each tree, and then making rules or associations with other features to lead to the specified outcome."
      ],
      "id": "GHq6a6r3e4Z5"
    },
    {
      "cell_type": "code",
      "execution_count": 36,
      "metadata": {
        "id": "A_4zKbBqe4Z5"
      },
      "outputs": [],
      "source": [
        "from sklearn.ensemble import RandomForestClassifier"
      ],
      "id": "A_4zKbBqe4Z5"
    },
    {
      "cell_type": "code",
      "execution_count": 37,
      "metadata": {
        "id": "rMfVvnine4Z6"
      },
      "outputs": [],
      "source": [
        "##1. Perform a test-train split, perform feature scaling, and the rebalance our dataset.\n",
        "## Perform a train-test split for cross-validation, perform feature scaling, and \n",
        "## rebalance each testing & training dataset.\n",
        "\n",
        "x_train_bal, y_train_bal, x_test_bal, y_test_bal = dataprep_pipeline(x, y, verbose=False)"
      ],
      "id": "rMfVvnine4Z6"
    },
    {
      "cell_type": "code",
      "execution_count": 38,
      "metadata": {
        "id": "6vl5xbHne4Z6",
        "outputId": "ee51ef3d-5a24-47d2-dcb6-fbe210f1c238",
        "colab": {
          "base_uri": "https://localhost:8080/"
        }
      },
      "outputs": [
        {
          "output_type": "stream",
          "name": "stdout",
          "text": [
            "Number of estimators is 10\n",
            "depth is 2\n",
            "depth is 10\n",
            "depth is 100\n",
            "Random Forest took 0.6598420143127441 seconds.\n",
            "Number of estimators is 50\n",
            "depth is 2\n",
            "depth is 10\n",
            "depth is 100\n",
            "Random Forest took 2.2543768882751465 seconds.\n",
            "Number of estimators is 500\n",
            "depth is 2\n",
            "depth is 10\n",
            "depth is 100\n",
            "Random Forest took 29.485285758972168 seconds.\n"
          ]
        }
      ],
      "source": [
        "##2. Train (and tuning) the Random Forest model\n",
        "\n",
        "## There are many hyperparameters one can decide upon when tuning the Random Forest classifier. \n",
        "## The two we will adjust are: \n",
        "##    1) The number of estimators or \"trees\" in the forest\n",
        "##    2) The depth of the tree, or how many \"decisions\" are made until convergence is reached.\n",
        "\n",
        "acc_scores = []\n",
        "rec_scores = []\n",
        "\n",
        "num_est = [10, 50, 500] # number of trees\n",
        "depth = [2, 10, 100] # number of decisions\n",
        "for i in num_est:\n",
        "    start = time.time()\n",
        "    print(\"Number of estimators is \"+str(i))\n",
        "\n",
        "    for k in depth:\n",
        "        print(\"depth is \"+str(k))\n",
        "        forest = RandomForestClassifier(n_estimators=i, max_depth=k)\n",
        "        forest.fit(x_train_bal, y_train_bal)\n",
        "        \n",
        "        # cross validate & evaluate metrics based on testing data\n",
        "        pred_test= forest.predict(x_test_bal)\n",
        "        acc_val = metrics.accuracy_score(y_test_bal, pred_test)\n",
        "        acc_scores.append(acc_val)\n",
        "        rec_val = metrics.recall_score(y_test_bal, pred_test)\n",
        "        rec_scores.append(rec_val)\n",
        "\n",
        "    end = time.time()\n",
        "    print(\"Random Forest took \"+str(end-start)+\" seconds.\")"
      ],
      "id": "6vl5xbHne4Z6"
    },
    {
      "cell_type": "code",
      "execution_count": 39,
      "metadata": {
        "id": "Le6BmB3xe4Z6",
        "outputId": "e8b4b238-4cec-4839-e542-4412e681b1d7",
        "colab": {
          "base_uri": "https://localhost:8080/",
          "height": 483
        }
      },
      "outputs": [
        {
          "output_type": "stream",
          "name": "stdout",
          "text": [
            "Max Accuracy (black): 0.8138\n",
            "Max Recall (blue): 0.7384\n"
          ]
        },
        {
          "output_type": "display_data",
          "data": {
            "text/plain": [
              "<Figure size 640x480 with 1 Axes>"
            ],
            "image/png": "[encoded data removed]"
          },
          "metadata": {}
        }
      ],
      "source": [
        "### visualize the recall and accuracy scores for the different hyperparameter choices\n",
        "plt.plot(acc_scores, marker='o', color='black',label='accuracy')\n",
        "plt.plot(rec_scores, marker='o', color='blue',label='recall')\n",
        "plt.xlabel('Hyperparameter Choice')\n",
        "plt.ylabel('Score')\n",
        "plt.legend()\n",
        "print(\"Max Accuracy (black):\", round(max(acc_scores), 4))\n",
        "print(\"Max Recall (blue):\", round(max(rec_scores), 4))"
      ],
      "id": "Le6BmB3xe4Z6"
    },
    {
      "cell_type": "markdown",
      "metadata": {
        "id": "c5KN2yhqe4Z7"
      },
      "source": [
        "Which choice of hyperparameters should we pick? Choosing the right hyperparameters for this model requires revisiting which metrics are most important to our question. For this problem, we want to maximize both recall and accuracy.\n",
        "\n",
        "Let's go with the parameters corresponding to x=0 (Looks good for both accuracy and recall!) but try other hyperparameters too (if you have time)"
      ],
      "id": "c5KN2yhqe4Z7"
    },
    {
      "cell_type": "code",
      "execution_count": 40,
      "metadata": {
        "id": "mO8MbDMIe4Z7"
      },
      "outputs": [],
      "source": [
        "forest = RandomForestClassifier(n_estimators=10, max_depth=2);\n",
        "forest.fit(x_train_bal, y_train_bal);"
      ],
      "id": "mO8MbDMIe4Z7"
    },
    {
      "cell_type": "code",
      "execution_count": 41,
      "metadata": {
        "id": "JNtf2-Vje4Z7",
        "outputId": "aed566a2-6664-422e-e656-323f031dd7ba",
        "colab": {
          "base_uri": "https://localhost:8080/",
          "height": 483
        }
      },
      "outputs": [
        {
          "output_type": "stream",
          "name": "stdout",
          "text": [
            "Accuracy: 0.7893\n",
            "Recall: 0.7737\n"
          ]
        },
        {
          "output_type": "display_data",
          "data": {
            "text/plain": [
              "<Figure size 640x480 with 2 Axes>"
            ],
            "image/png": "[encoded data removed]"
          },
          "metadata": {}
        }
      ],
      "source": [
        "## 3. Assess the Random Forest's performance using testing data\n",
        "##Once again, we will use our testing data to make an initial evaluation of how the model is doing.\n",
        "\n",
        "pred_test= forest.predict(x_test_bal)\n",
        "\n",
        "# Call functions defined above to calculate metrics & plot a confusion matrix based on\n",
        "# how well model simulates testing data\n",
        "forest_acc, forest_rec = bin_metrics(y_test_bal, pred_test)\n",
        "plot_cm(y_test_bal, pred_test)\n"
      ],
      "id": "JNtf2-Vje4Z7"
    },
    {
      "cell_type": "code",
      "execution_count": 42,
      "metadata": {
        "id": "LmKTYnrJe4Z8",
        "outputId": "64c4016a-8e1b-4838-ab5f-7a77c5d6eafc",
        "colab": {
          "base_uri": "https://localhost:8080/"
        }
      },
      "outputs": [
        {
          "output_type": "stream",
          "name": "stdout",
          "text": [
            "Training metrics:\n",
            "Accuracy: 0.7868\n",
            "Recall: 0.76\n",
            " \n",
            "Testing metrics:\n",
            "Accuracy: 0.7893\n",
            "Recall: 0.7737\n"
          ]
        }
      ],
      "source": [
        "## 4. Check to see if the Random Forest is overfitting (or underfitting)\n",
        "#Remember:\n",
        "#testing metrics > training metrics = underfitting, model is too simple\n",
        "#testing metrics < training metrics = overfitting, model is too complex\n",
        "\n",
        "# Compare testing data metrics to data training metrics.\n",
        "print(\"Training metrics:\")\n",
        "rf_pred_train= forest.predict(x_train_bal) \n",
        "bin_metrics(y_train_bal,rf_pred_train);\n",
        "\n",
        "# As a reminder, display testing metrics:\n",
        "print(\" \")\n",
        "print(\"Testing metrics:\")\n",
        "bin_metrics(y_test_bal, pred_test);"
      ],
      "id": "LmKTYnrJe4Z8"
    },
    {
      "cell_type": "markdown",
      "metadata": {
        "id": "28joCHkHe4Z8"
      },
      "source": [
        "WOW - the random forest model was not an improvement over the logistical regression model.\n",
        "\n",
        "Random forests seldom overfit, but if they do, one should try increasing the number of trees, or decreasing the amount of data used to construct each tree. See scikit-learn's Random Forest Classifier webpage (https://scikit-learn.org/stable/modules/generated/sklearn.ensemble.RandomForestClassifier.html) for information on more hyperparameters one can tune to address overfitting."
      ],
      "id": "28joCHkHe4Z8"
    },
    {
      "cell_type": "code",
      "execution_count": 43,
      "metadata": {
        "id": "G5vx69Bae4Z8",
        "outputId": "013c5d76-ac58-4c63-fd31-db708f6f0602",
        "colab": {
          "base_uri": "https://localhost:8080/"
        }
      },
      "outputs": [
        {
          "output_type": "stream",
          "name": "stdout",
          "text": [
            "The meteorological conditions are: \n",
            "day             2016-05-14\n",
            "hour              0.333333\n",
            "temp_F                37.6\n",
            "RH                    88.8\n",
            "dewtemp_F             34.6\n",
            "wind_mph               4.8\n",
            "wind_dir                82\n",
            "windgust               8.9\n",
            "windgust_dir            99\n",
            "pres_Hg             849.54\n",
            "SOLIN_Wm2             83.1\n",
            "Prec_inches           0.01\n",
            "prec_occur               1\n",
            "Name: 3224, dtype: object\n",
            " \n",
            "There is a 74.87% chance of precipitation given those meteorological conditions.\n"
          ]
        },
        {
          "output_type": "stream",
          "name": "stderr",
          "text": [
            "/usr/local/lib/python3.10/dist-packages/sklearn/base.py:439: UserWarning: X does not have valid feature names, but RandomForestClassifier was fitted with feature names\n",
            "  warnings.warn(\n"
          ]
        }
      ],
      "source": [
        "##5. Make a prediction with the Random Forest\n",
        "\n",
        "# prediction output is in the format [probability no rain, probability rain]\n",
        "forest_prediction = forest.predict_proba(np.array(testpredictor).reshape(1, -1))[0][1]*100 \n",
        "print(\"The meteorological conditions are: \")\n",
        "print(origvals)\n",
        "print(\" \")\n",
        "print(\"There is a {0:.{digits}f}% chance of precipitation given those meteorological conditions.\".format(forest_prediction, digits=2))"
      ],
      "id": "G5vx69Bae4Z8"
    },
    {
      "cell_type": "markdown",
      "metadata": {
        "id": "MiHyL1vne4Z9"
      },
      "source": [
        "## Model 3: Support Vector Machines (SVMs)"
      ],
      "id": "MiHyL1vne4Z9"
    },
    {
      "cell_type": "markdown",
      "metadata": {
        "id": "dQsl05R6e4Z9"
      },
      "source": [
        "SVMs divide observations into classes based on maximizing the distance between a \"kernel\" (basically a dividing function) and the elements of each feature/class/variable on a plane. Because the relationships between atmospheric variables and precipitation are inherently non-linear, we will choose a non-linear, \"RBF\" kernel."
      ],
      "id": "dQsl05R6e4Z9"
    },
    {
      "cell_type": "code",
      "execution_count": 44,
      "metadata": {
        "id": "PEtOI8hPe4Z9"
      },
      "outputs": [],
      "source": [
        "from sklearn import svm"
      ],
      "id": "PEtOI8hPe4Z9"
    },
    {
      "cell_type": "code",
      "execution_count": 45,
      "metadata": {
        "id": "VhY2cwXre4Z-"
      },
      "outputs": [],
      "source": [
        "## 1. Perform a test-train split, perform feature scaling, and the rebalance our dataset.\n",
        "x_train_bal, y_train_bal, x_test_bal, y_test_bal = dataprep_pipeline(x, y, verbose=False)"
      ],
      "id": "VhY2cwXre4Z-"
    },
    {
      "cell_type": "markdown",
      "metadata": {
        "id": "ja8VGQ1re4Z-"
      },
      "source": [
        "Choosing hyperparameters:\n",
        "\n",
        "In the case of SVMs, we can tune \"C\", the regularization parameter. Regularization penalizes higher-order coefficients during training (i.e., Gradient Descent). Regularization is a way to reduce a model's complexity and address overfitting.\n",
        "\n",
        "In SVMs, the lower the regularization parameter C, the higher the penalty. We are unsure what the C value should be. Thus, we train the model three times, each with a different value of C to see what the best value should be. I highly suggest learning more on regularization if you choose to pursue ML methods on your own."
      ],
      "id": "ja8VGQ1re4Z-"
    },
    {
      "cell_type": "code",
      "execution_count": 51,
      "metadata": {
        "id": "pTQHKJ3Ge4Z-",
        "outputId": "ed823025-b88f-45f8-9084-b1021011571e",
        "colab": {
          "base_uri": "https://localhost:8080/"
        }
      },
      "outputs": [
        {
          "output_type": "stream",
          "name": "stdout",
          "text": [
            "C is... 0.01\n",
            "Took 46.25777292251587 seconds to train.\n",
            "C is... 1\n",
            "Took 21.532407999038696 seconds to train.\n",
            "C is... 100\n"
          ]
        },
        {
          "output_type": "stream",
          "name": "stderr",
          "text": [
            "/usr/local/lib/python3.10/dist-packages/sklearn/svm/_base.py:299: ConvergenceWarning: Solver terminated early (max_iter=20000).  Consider pre-processing your data with StandardScaler or MinMaxScaler.\n",
            "  warnings.warn(\n"
          ]
        },
        {
          "output_type": "stream",
          "name": "stdout",
          "text": [
            "Took 19.38083791732788 seconds to train.\n"
          ]
        }
      ],
      "source": [
        "## 2. Train (and tune) the SVM (Note: this cell takes ~1 minute to run)\n",
        "\n",
        "acc_scores = []\n",
        "rec_scores = []\n",
        "\n",
        "C_range = [0.01, 1, 100]\n",
        "for i in C_range:\n",
        "    start = time.time()\n",
        "    print(\"C is... \"+str(i))\n",
        "    svmclassifier = svm.SVC(C=i, kernel='rbf', gamma='scale', max_iter=20000, probability=True)\n",
        "    svmclassifier.fit(x_train_bal, y_train_bal)\n",
        "    \n",
        "    # Save model metrics in order to choose best hyperparameter\n",
        "    pred_test= svmclassifier.predict(x_test_bal)\n",
        "    acc_val = metrics.accuracy_score(y_test_bal, pred_test)\n",
        "    acc_scores.append(acc_val)\n",
        "    rec_val = metrics.recall_score(y_test_bal, pred_test)\n",
        "    rec_scores.append(rec_val)\n",
        "\n",
        "    end = time.time()\n",
        "    print(\"Took \"+str(end-start)+\" seconds to train.\")"
      ],
      "id": "pTQHKJ3Ge4Z-"
    },
    {
      "cell_type": "code",
      "execution_count": 53,
      "metadata": {
        "id": "OsrXqyDme4Z_",
        "outputId": "76644f5a-b76d-4314-e189-39767d2536fd",
        "colab": {
          "base_uri": "https://localhost:8080/",
          "height": 488
        }
      },
      "outputs": [
        {
          "output_type": "stream",
          "name": "stdout",
          "text": [
            "Max Accuracy (black): 0.8202\n",
            "Max Recall (blue): 0.8249\n"
          ]
        },
        {
          "output_type": "display_data",
          "data": {
            "text/plain": [
              "<Figure size 640x480 with 1 Axes>"
            ],
            "image/png": "[encoded data removed]"
          },
          "metadata": {}
        }
      ],
      "source": [
        "plt.plot(C_range, acc_scores, marker='o', color='black',label='accuracy')\n",
        "plt.plot(C_range, rec_scores, marker='o', color='blue',label='recall')\n",
        "plt.xlabel('Hyperparameter Choice')\n",
        "plt.xscale('log')\n",
        "plt.ylabel('Score')\n",
        "plt.legend()\n",
        "\n",
        "print(\"Max Accuracy (black):\", round(max(acc_scores), 4))\n",
        "print(\"Max Recall (blue):\", round(max(rec_scores), 4))"
      ],
      "id": "OsrXqyDme4Z_"
    },
    {
      "cell_type": "markdown",
      "metadata": {
        "id": "aCdytxfYe4Z_"
      },
      "source": [
        "The SVM with C=1, i.e., a medium weight penalty, results in a balance among accuracy, precision, and recall.\n",
        "We will train our final model with this hyperparameter."
      ],
      "id": "aCdytxfYe4Z_"
    },
    {
      "cell_type": "code",
      "execution_count": 54,
      "metadata": {
        "id": "swphbcfKe4aA"
      },
      "outputs": [],
      "source": [
        "# Define SVM classifier & fit to training data\n",
        "svmclassifier = svm.SVC(C=1, kernel='rbf', gamma='scale', max_iter=20000, probability=True)\n",
        "svmclassifier.fit(x_train_bal, y_train_bal);"
      ],
      "id": "swphbcfKe4aA"
    },
    {
      "cell_type": "code",
      "execution_count": 55,
      "metadata": {
        "id": "ejuZU8Ope4aA",
        "outputId": "fcad79c9-19c0-4fcb-bdd8-c54ed4793145",
        "colab": {
          "base_uri": "https://localhost:8080/",
          "height": 483
        }
      },
      "outputs": [
        {
          "output_type": "stream",
          "name": "stdout",
          "text": [
            "Accuracy: 0.8202\n",
            "Recall: 0.7415\n"
          ]
        },
        {
          "output_type": "display_data",
          "data": {
            "text/plain": [
              "<Figure size 640x480 with 2 Axes>"
            ],
            "image/png": "[encoded data removed]"
          },
          "metadata": {}
        }
      ],
      "source": [
        "## 3. Assess SVM performance using testing data\n",
        "\n",
        "pred_test= svmclassifier.predict(x_test_bal)\n",
        "\n",
        "# Call functions defined above to calculate metrics & plot a confusion matrix based on\n",
        "# how well model simulates testing data\n",
        "svm_acc, svm_rec = bin_metrics(y_test_bal, pred_test)\n",
        "plot_cm(y_test_bal, pred_test)"
      ],
      "id": "ejuZU8Ope4aA"
    },
    {
      "cell_type": "markdown",
      "metadata": {
        "id": "nyup1vMqe4aA"
      },
      "source": [
        "WOW: using a non-linear Singular Vector Machine instead of a Logistic Regressor increased the recall and accuracy. "
      ],
      "id": "nyup1vMqe4aA"
    },
    {
      "cell_type": "code",
      "execution_count": 56,
      "metadata": {
        "id": "2vCLHMZUe4aB",
        "outputId": "158cdc2e-0569-415e-8654-206ddb43fc8b",
        "colab": {
          "base_uri": "https://localhost:8080/"
        }
      },
      "outputs": [
        {
          "output_type": "stream",
          "name": "stdout",
          "text": [
            "Training metrics:\n",
            "Accuracy: 0.919\n",
            "Recall: 0.9397\n",
            " \n",
            "Testing metrics:\n",
            "Accuracy: 0.8202\n",
            "Recall: 0.7415\n"
          ]
        }
      ],
      "source": [
        "## 4. Check to see if the SVM is overfitting (or underfitting)\n",
        "#Remember:\n",
        "#testing metrics > training metrics = underfitting, model is too simple\n",
        "#testing metrics < training metrics = overfitting, model is too complex\n",
        "\n",
        "# Compare testing data metrics to data training metrics.\n",
        "print(\"Training metrics:\")\n",
        "svm_pred_train= svmclassifier.predict(x_train_bal) \n",
        "bin_metrics(y_train_bal,svm_pred_train);\n",
        "\n",
        "# As a reminder, display testing metrics:\n",
        "print(\" \")\n",
        "print(\"Testing metrics:\")\n",
        "bin_metrics(y_test_bal, pred_test);"
      ],
      "id": "2vCLHMZUe4aB"
    },
    {
      "cell_type": "markdown",
      "metadata": {
        "id": "Z3qtnfp7e4aB"
      },
      "source": [
        "One can address overfitting in an SVM by changing the kernel to a simpler kernel, or tuning the regularization parameter C."
      ],
      "id": "Z3qtnfp7e4aB"
    },
    {
      "cell_type": "code",
      "execution_count": 57,
      "metadata": {
        "id": "gGmJXN3ie4aC",
        "outputId": "952c71b3-cc61-4a34-a955-8f5e755526a0",
        "colab": {
          "base_uri": "https://localhost:8080/"
        }
      },
      "outputs": [
        {
          "output_type": "stream",
          "name": "stdout",
          "text": [
            "The meteorological conditions are: \n",
            "day             2016-05-14\n",
            "hour              0.333333\n",
            "temp_F                37.6\n",
            "RH                    88.8\n",
            "dewtemp_F             34.6\n",
            "wind_mph               4.8\n",
            "wind_dir                82\n",
            "windgust               8.9\n",
            "windgust_dir            99\n",
            "pres_Hg             849.54\n",
            "SOLIN_Wm2             83.1\n",
            "Prec_inches           0.01\n",
            "prec_occur               1\n",
            "Name: 3224, dtype: object\n",
            " \n",
            "There is a 98.21% chance of precipitation given those meteorological conditions.\n"
          ]
        },
        {
          "output_type": "stream",
          "name": "stderr",
          "text": [
            "/usr/local/lib/python3.10/dist-packages/sklearn/base.py:439: UserWarning: X does not have valid feature names, but SVC was fitted with feature names\n",
            "  warnings.warn(\n"
          ]
        }
      ],
      "source": [
        "## 5. Make a prediction with the SVM\n",
        "\n",
        "# prediction output is in the format [probability no rain, probability rain]\n",
        "svm_prediction = svmclassifier.predict_proba(np.array(testpredictor).reshape(1, -1))[0][1]*100 \n",
        "print(\"The meteorological conditions are: \")\n",
        "print(origvals)\n",
        "print(\" \")\n",
        "print(\"There is a {0:.{digits}f}% chance of precipitation given those meteorological conditions.\".format(svm_prediction, digits=2))"
      ],
      "id": "gGmJXN3ie4aC"
    },
    {
      "cell_type": "markdown",
      "metadata": {
        "id": "X6EaCIp6e4aC"
      },
      "source": [
        "## Model 4: Neural Network"
      ],
      "id": "X6EaCIp6e4aC"
    },
    {
      "cell_type": "markdown",
      "metadata": {
        "id": "OwBEb_rve4aD"
      },
      "source": [
        "Note: there is a TON of information online about Neural Networks.\n",
        "\n",
        "Sources of more info:\n",
        "\n",
        "1) This three-part series of youtube videos (totaling about an hour in length) https://www.youtube.com/watch?v=aircAruvnKk. \n",
        "\n",
        "2) machinelearningmastery.com In fact, the model below is based off of this blog post (https://machinelearningmastery.com/binary-classification-tutorial-with-the-keras-deep-learning-library/)"
      ],
      "id": "OwBEb_rve4aD"
    },
    {
      "cell_type": "code",
      "execution_count": 58,
      "metadata": {
        "id": "KIfGIHLce4aD"
      },
      "outputs": [],
      "source": [
        "import tensorflow.keras as keras\n",
        "from tensorflow.keras.models import Sequential\n",
        "from tensorflow.keras.layers import Dense"
      ],
      "id": "KIfGIHLce4aD"
    },
    {
      "cell_type": "code",
      "execution_count": 59,
      "metadata": {
        "id": "k41co0HQe4aD"
      },
      "outputs": [],
      "source": [
        "## 1. Perform a test-train split, perform feature scaling, and the rebalance our dataset.\n",
        "x_train_bal, y_train_bal, x_test_bal, y_test_bal = dataprep_pipeline(x, y, verbose=False)\n"
      ],
      "id": "k41co0HQe4aD"
    },
    {
      "cell_type": "code",
      "execution_count": 60,
      "metadata": {
        "id": "WnQAQGsre4aE"
      },
      "outputs": [],
      "source": [
        "## 2. Train (and build and compile) the Neural Network\n",
        "## There are lots of hyperparameters here. Please read the comments to guide you in playing with them later!"
      ],
      "id": "WnQAQGsre4aE"
    },
    {
      "cell_type": "code",
      "execution_count": 61,
      "metadata": {
        "id": "aXraoLhce4aE"
      },
      "outputs": [],
      "source": [
        "### Build a very simple Neural Network and Compile\n",
        "number_inputs = len(x_train_bal.columns)\n",
        "\n",
        "# create model\n",
        "nn = Sequential()\n",
        "nn.add(Dense(number_inputs, input_dim=number_inputs, activation='relu'))\n",
        "\n",
        "# Try uncommenting this to address overfitting\n",
        "# from keras.regularizers import l2\n",
        "# reg = l2(0.001)\n",
        "# nn.add(Dense(number_inputs, activation='relu',bias_regularizer=reg,activity_regularizer=reg))\n",
        "\n",
        "# try commenting out one and then the other\n",
        "nn.add(Dense(1, activation='sigmoid'))\n",
        "#nn.addDense(1, activation='softmax'))\n",
        "\n",
        "# Compile model \n",
        "# Also try changing the learning rate.\n",
        "learning_rate = 0.001 # only used in the SGD optimizer.\n",
        "\n",
        "# Also try commenting out one & then the other. \n",
        "nn.compile(loss='binary_crossentropy', optimizer='adam', metrics=['accuracy']) \n",
        "#nn.compile(loss='binary_crossentropy', optimizer=keras.optimizers.SGD(lr=learning_rate), metrics=['accuracy']) "
      ],
      "id": "aXraoLhce4aE"
    },
    {
      "cell_type": "code",
      "execution_count": 62,
      "metadata": {
        "id": "qy2REFPge4aE",
        "outputId": "8679a9dc-0183-4bd0-861c-15fff29aea2e",
        "colab": {
          "base_uri": "https://localhost:8080/"
        }
      },
      "outputs": [
        {
          "output_type": "stream",
          "name": "stdout",
          "text": [
            "Epoch 1/100\n",
            "567/567 - 3s - loss: 0.5726 - accuracy: 0.7275 - val_loss: 0.5486 - val_accuracy: 0.7302 - 3s/epoch - 5ms/step\n",
            "Epoch 2/100\n",
            "567/567 - 1s - loss: 0.4720 - accuracy: 0.7737 - val_loss: 0.5027 - val_accuracy: 0.7666 - 1s/epoch - 2ms/step\n",
            "Epoch 3/100\n",
            "567/567 - 1s - loss: 0.4345 - accuracy: 0.8011 - val_loss: 0.4808 - val_accuracy: 0.8027 - 1s/epoch - 2ms/step\n",
            "Epoch 4/100\n",
            "567/567 - 1s - loss: 0.4153 - accuracy: 0.8132 - val_loss: 0.4667 - val_accuracy: 0.7921 - 1s/epoch - 2ms/step\n",
            "Epoch 5/100\n",
            "567/567 - 1s - loss: 0.4033 - accuracy: 0.8231 - val_loss: 0.4569 - val_accuracy: 0.8053 - 1s/epoch - 2ms/step\n",
            "Epoch 6/100\n",
            "567/567 - 1s - loss: 0.3949 - accuracy: 0.8309 - val_loss: 0.4482 - val_accuracy: 0.8027 - 1s/epoch - 2ms/step\n",
            "Epoch 7/100\n",
            "567/567 - 2s - loss: 0.3884 - accuracy: 0.8358 - val_loss: 0.4433 - val_accuracy: 0.7983 - 2s/epoch - 3ms/step\n",
            "Epoch 8/100\n",
            "567/567 - 2s - loss: 0.3835 - accuracy: 0.8398 - val_loss: 0.4385 - val_accuracy: 0.8065 - 2s/epoch - 3ms/step\n",
            "Epoch 9/100\n",
            "567/567 - 2s - loss: 0.3792 - accuracy: 0.8422 - val_loss: 0.4389 - val_accuracy: 0.8200 - 2s/epoch - 4ms/step\n",
            "Epoch 10/100\n",
            "567/567 - 2s - loss: 0.3754 - accuracy: 0.8441 - val_loss: 0.4322 - val_accuracy: 0.8168 - 2s/epoch - 3ms/step\n",
            "Epoch 11/100\n",
            "567/567 - 2s - loss: 0.3717 - accuracy: 0.8474 - val_loss: 0.4273 - val_accuracy: 0.8121 - 2s/epoch - 3ms/step\n",
            "Epoch 12/100\n",
            "567/567 - 1s - loss: 0.3677 - accuracy: 0.8483 - val_loss: 0.4251 - val_accuracy: 0.8109 - 1s/epoch - 2ms/step\n",
            "Epoch 13/100\n",
            "567/567 - 1s - loss: 0.3638 - accuracy: 0.8491 - val_loss: 0.4175 - val_accuracy: 0.8218 - 1s/epoch - 2ms/step\n",
            "Epoch 14/100\n",
            "567/567 - 1s - loss: 0.3606 - accuracy: 0.8514 - val_loss: 0.4170 - val_accuracy: 0.8206 - 1s/epoch - 2ms/step\n",
            "Epoch 15/100\n",
            "567/567 - 1s - loss: 0.3560 - accuracy: 0.8525 - val_loss: 0.4111 - val_accuracy: 0.8203 - 1s/epoch - 2ms/step\n",
            "Epoch 16/100\n",
            "567/567 - 1s - loss: 0.3520 - accuracy: 0.8520 - val_loss: 0.4070 - val_accuracy: 0.8206 - 1s/epoch - 2ms/step\n",
            "Epoch 17/100\n",
            "567/567 - 1s - loss: 0.3481 - accuracy: 0.8550 - val_loss: 0.4044 - val_accuracy: 0.8142 - 1s/epoch - 2ms/step\n",
            "Epoch 18/100\n",
            "567/567 - 1s - loss: 0.3436 - accuracy: 0.8575 - val_loss: 0.4010 - val_accuracy: 0.8209 - 1s/epoch - 2ms/step\n",
            "Epoch 19/100\n",
            "567/567 - 1s - loss: 0.3401 - accuracy: 0.8589 - val_loss: 0.3924 - val_accuracy: 0.8133 - 1s/epoch - 2ms/step\n",
            "Epoch 20/100\n",
            "567/567 - 1s - loss: 0.3359 - accuracy: 0.8615 - val_loss: 0.3911 - val_accuracy: 0.8191 - 1s/epoch - 2ms/step\n",
            "Epoch 21/100\n",
            "567/567 - 2s - loss: 0.3319 - accuracy: 0.8634 - val_loss: 0.3848 - val_accuracy: 0.8277 - 2s/epoch - 3ms/step\n",
            "Epoch 22/100\n",
            "567/567 - 1s - loss: 0.3284 - accuracy: 0.8652 - val_loss: 0.3842 - val_accuracy: 0.8274 - 1s/epoch - 3ms/step\n",
            "Epoch 23/100\n",
            "567/567 - 2s - loss: 0.3243 - accuracy: 0.8650 - val_loss: 0.3821 - val_accuracy: 0.8371 - 2s/epoch - 3ms/step\n",
            "Epoch 24/100\n",
            "567/567 - 1s - loss: 0.3213 - accuracy: 0.8671 - val_loss: 0.3764 - val_accuracy: 0.8409 - 985ms/epoch - 2ms/step\n",
            "Epoch 25/100\n",
            "567/567 - 1s - loss: 0.3175 - accuracy: 0.8685 - val_loss: 0.3782 - val_accuracy: 0.8509 - 1s/epoch - 2ms/step\n",
            "Epoch 26/100\n",
            "567/567 - 1s - loss: 0.3144 - accuracy: 0.8702 - val_loss: 0.3715 - val_accuracy: 0.8397 - 1s/epoch - 2ms/step\n",
            "Epoch 27/100\n",
            "567/567 - 1s - loss: 0.3118 - accuracy: 0.8700 - val_loss: 0.3720 - val_accuracy: 0.8526 - 1s/epoch - 2ms/step\n",
            "Epoch 28/100\n",
            "567/567 - 1s - loss: 0.3090 - accuracy: 0.8694 - val_loss: 0.3677 - val_accuracy: 0.8459 - 1s/epoch - 2ms/step\n",
            "Epoch 29/100\n",
            "567/567 - 1s - loss: 0.3059 - accuracy: 0.8725 - val_loss: 0.3703 - val_accuracy: 0.8379 - 1s/epoch - 2ms/step\n",
            "Epoch 30/100\n",
            "567/567 - 1s - loss: 0.3043 - accuracy: 0.8728 - val_loss: 0.3677 - val_accuracy: 0.8426 - 1s/epoch - 2ms/step\n",
            "Epoch 31/100\n",
            "567/567 - 1s - loss: 0.3028 - accuracy: 0.8738 - val_loss: 0.3605 - val_accuracy: 0.8344 - 1s/epoch - 2ms/step\n",
            "Epoch 32/100\n",
            "567/567 - 1s - loss: 0.3003 - accuracy: 0.8768 - val_loss: 0.3580 - val_accuracy: 0.8403 - 1s/epoch - 2ms/step\n",
            "Epoch 33/100\n",
            "567/567 - 2s - loss: 0.2988 - accuracy: 0.8762 - val_loss: 0.3622 - val_accuracy: 0.8353 - 2s/epoch - 3ms/step\n",
            "Epoch 34/100\n",
            "567/567 - 2s - loss: 0.2975 - accuracy: 0.8764 - val_loss: 0.3585 - val_accuracy: 0.8417 - 2s/epoch - 3ms/step\n",
            "Epoch 35/100\n",
            "567/567 - 2s - loss: 0.2962 - accuracy: 0.8775 - val_loss: 0.3573 - val_accuracy: 0.8438 - 2s/epoch - 3ms/step\n",
            "Epoch 36/100\n",
            "567/567 - 1s - loss: 0.2951 - accuracy: 0.8810 - val_loss: 0.3591 - val_accuracy: 0.8432 - 1s/epoch - 3ms/step\n",
            "Epoch 37/100\n",
            "567/567 - 1s - loss: 0.2936 - accuracy: 0.8800 - val_loss: 0.3515 - val_accuracy: 0.8373 - 1s/epoch - 3ms/step\n",
            "Epoch 38/100\n",
            "567/567 - 1s - loss: 0.2929 - accuracy: 0.8810 - val_loss: 0.3533 - val_accuracy: 0.8464 - 1s/epoch - 2ms/step\n",
            "Epoch 39/100\n",
            "567/567 - 1s - loss: 0.2918 - accuracy: 0.8813 - val_loss: 0.3598 - val_accuracy: 0.8497 - 1s/epoch - 2ms/step\n",
            "Epoch 40/100\n",
            "567/567 - 1s - loss: 0.2910 - accuracy: 0.8825 - val_loss: 0.3576 - val_accuracy: 0.8429 - 989ms/epoch - 2ms/step\n",
            "Epoch 41/100\n",
            "567/567 - 1s - loss: 0.2897 - accuracy: 0.8819 - val_loss: 0.3525 - val_accuracy: 0.8447 - 1000ms/epoch - 2ms/step\n",
            "Epoch 42/100\n",
            "567/567 - 1s - loss: 0.2891 - accuracy: 0.8834 - val_loss: 0.3521 - val_accuracy: 0.8415 - 1s/epoch - 2ms/step\n",
            "Epoch 43/100\n",
            "567/567 - 1s - loss: 0.2883 - accuracy: 0.8821 - val_loss: 0.3544 - val_accuracy: 0.8456 - 1s/epoch - 2ms/step\n",
            "Epoch 44/100\n",
            "567/567 - 2s - loss: 0.2873 - accuracy: 0.8831 - val_loss: 0.3609 - val_accuracy: 0.8332 - 2s/epoch - 3ms/step\n",
            "Epoch 45/100\n",
            "567/567 - 2s - loss: 0.2869 - accuracy: 0.8836 - val_loss: 0.3612 - val_accuracy: 0.8470 - 2s/epoch - 3ms/step\n",
            "Epoch 46/100\n",
            "567/567 - 2s - loss: 0.2862 - accuracy: 0.8846 - val_loss: 0.3495 - val_accuracy: 0.8376 - 2s/epoch - 4ms/step\n",
            "Epoch 47/100\n",
            "567/567 - 1s - loss: 0.2854 - accuracy: 0.8835 - val_loss: 0.3545 - val_accuracy: 0.8479 - 978ms/epoch - 2ms/step\n",
            "Epoch 48/100\n",
            "567/567 - 1s - loss: 0.2851 - accuracy: 0.8854 - val_loss: 0.3548 - val_accuracy: 0.8373 - 1s/epoch - 2ms/step\n",
            "Epoch 49/100\n",
            "567/567 - 1s - loss: 0.2843 - accuracy: 0.8850 - val_loss: 0.3552 - val_accuracy: 0.8341 - 972ms/epoch - 2ms/step\n",
            "Epoch 50/100\n",
            "567/567 - 1s - loss: 0.2835 - accuracy: 0.8846 - val_loss: 0.3490 - val_accuracy: 0.8473 - 1s/epoch - 2ms/step\n",
            "Epoch 51/100\n",
            "567/567 - 1s - loss: 0.2832 - accuracy: 0.8853 - val_loss: 0.3510 - val_accuracy: 0.8509 - 1s/epoch - 2ms/step\n",
            "Epoch 52/100\n",
            "567/567 - 1s - loss: 0.2829 - accuracy: 0.8839 - val_loss: 0.3673 - val_accuracy: 0.8250 - 994ms/epoch - 2ms/step\n",
            "Epoch 53/100\n",
            "567/567 - 1s - loss: 0.2823 - accuracy: 0.8836 - val_loss: 0.3514 - val_accuracy: 0.8373 - 1s/epoch - 2ms/step\n",
            "Epoch 54/100\n",
            "567/567 - 1s - loss: 0.2826 - accuracy: 0.8853 - val_loss: 0.3510 - val_accuracy: 0.8423 - 1s/epoch - 2ms/step\n",
            "Epoch 55/100\n",
            "567/567 - 1s - loss: 0.2813 - accuracy: 0.8853 - val_loss: 0.3501 - val_accuracy: 0.8397 - 1s/epoch - 2ms/step\n",
            "Epoch 56/100\n",
            "567/567 - 1s - loss: 0.2808 - accuracy: 0.8861 - val_loss: 0.3531 - val_accuracy: 0.8432 - 1s/epoch - 3ms/step\n",
            "Epoch 57/100\n",
            "567/567 - 1s - loss: 0.2804 - accuracy: 0.8864 - val_loss: 0.3468 - val_accuracy: 0.8555 - 1s/epoch - 2ms/step\n",
            "Epoch 58/100\n",
            "567/567 - 1s - loss: 0.2805 - accuracy: 0.8849 - val_loss: 0.3476 - val_accuracy: 0.8432 - 1s/epoch - 2ms/step\n",
            "Epoch 59/100\n",
            "567/567 - 1s - loss: 0.2798 - accuracy: 0.8861 - val_loss: 0.3565 - val_accuracy: 0.8321 - 973ms/epoch - 2ms/step\n",
            "Epoch 60/100\n",
            "567/567 - 1s - loss: 0.2794 - accuracy: 0.8861 - val_loss: 0.3531 - val_accuracy: 0.8300 - 989ms/epoch - 2ms/step\n",
            "Epoch 61/100\n",
            "567/567 - 1s - loss: 0.2787 - accuracy: 0.8870 - val_loss: 0.3495 - val_accuracy: 0.8441 - 1s/epoch - 2ms/step\n",
            "Epoch 62/100\n",
            "567/567 - 1s - loss: 0.2786 - accuracy: 0.8864 - val_loss: 0.3483 - val_accuracy: 0.8447 - 1s/epoch - 2ms/step\n",
            "Epoch 63/100\n",
            "567/567 - 1s - loss: 0.2782 - accuracy: 0.8875 - val_loss: 0.3538 - val_accuracy: 0.8397 - 1s/epoch - 2ms/step\n",
            "Epoch 64/100\n",
            "567/567 - 1s - loss: 0.2780 - accuracy: 0.8870 - val_loss: 0.3476 - val_accuracy: 0.8379 - 1s/epoch - 2ms/step\n",
            "Epoch 65/100\n",
            "567/567 - 1s - loss: 0.2768 - accuracy: 0.8870 - val_loss: 0.3466 - val_accuracy: 0.8447 - 1s/epoch - 2ms/step\n",
            "Epoch 66/100\n",
            "567/567 - 1s - loss: 0.2766 - accuracy: 0.8881 - val_loss: 0.3454 - val_accuracy: 0.8417 - 987ms/epoch - 2ms/step\n",
            "Epoch 67/100\n",
            "567/567 - 1s - loss: 0.2765 - accuracy: 0.8875 - val_loss: 0.3488 - val_accuracy: 0.8491 - 1s/epoch - 2ms/step\n",
            "Epoch 68/100\n",
            "567/567 - 1s - loss: 0.2757 - accuracy: 0.8878 - val_loss: 0.3474 - val_accuracy: 0.8379 - 1s/epoch - 3ms/step\n",
            "Epoch 69/100\n",
            "567/567 - 1s - loss: 0.2757 - accuracy: 0.8883 - val_loss: 0.3454 - val_accuracy: 0.8462 - 1s/epoch - 3ms/step\n",
            "Epoch 70/100\n",
            "567/567 - 1s - loss: 0.2756 - accuracy: 0.8879 - val_loss: 0.3459 - val_accuracy: 0.8406 - 1s/epoch - 3ms/step\n",
            "Epoch 71/100\n",
            "567/567 - 1s - loss: 0.2752 - accuracy: 0.8882 - val_loss: 0.3506 - val_accuracy: 0.8382 - 1s/epoch - 2ms/step\n",
            "Epoch 72/100\n",
            "567/567 - 1s - loss: 0.2750 - accuracy: 0.8878 - val_loss: 0.3534 - val_accuracy: 0.8368 - 1s/epoch - 2ms/step\n",
            "Epoch 73/100\n",
            "567/567 - 1s - loss: 0.2743 - accuracy: 0.8879 - val_loss: 0.3506 - val_accuracy: 0.8315 - 1s/epoch - 2ms/step\n",
            "Epoch 74/100\n",
            "567/567 - 1s - loss: 0.2742 - accuracy: 0.8878 - val_loss: 0.3485 - val_accuracy: 0.8453 - 1s/epoch - 2ms/step\n",
            "Epoch 75/100\n",
            "567/567 - 1s - loss: 0.2740 - accuracy: 0.8876 - val_loss: 0.3433 - val_accuracy: 0.8438 - 983ms/epoch - 2ms/step\n",
            "Epoch 76/100\n",
            "567/567 - 1s - loss: 0.2744 - accuracy: 0.8890 - val_loss: 0.3473 - val_accuracy: 0.8450 - 1s/epoch - 2ms/step\n",
            "Epoch 77/100\n",
            "567/567 - 1s - loss: 0.2735 - accuracy: 0.8882 - val_loss: 0.3428 - val_accuracy: 0.8350 - 1s/epoch - 2ms/step\n",
            "Epoch 78/100\n",
            "567/567 - 1s - loss: 0.2735 - accuracy: 0.8890 - val_loss: 0.3472 - val_accuracy: 0.8315 - 1s/epoch - 2ms/step\n",
            "Epoch 79/100\n",
            "567/567 - 1s - loss: 0.2735 - accuracy: 0.8894 - val_loss: 0.3440 - val_accuracy: 0.8362 - 1s/epoch - 2ms/step\n",
            "Epoch 80/100\n",
            "567/567 - 1s - loss: 0.2730 - accuracy: 0.8874 - val_loss: 0.3424 - val_accuracy: 0.8432 - 1s/epoch - 2ms/step\n",
            "Epoch 81/100\n",
            "567/567 - 1s - loss: 0.2729 - accuracy: 0.8891 - val_loss: 0.3491 - val_accuracy: 0.8406 - 1s/epoch - 3ms/step\n",
            "Epoch 82/100\n",
            "567/567 - 2s - loss: 0.2728 - accuracy: 0.8898 - val_loss: 0.3403 - val_accuracy: 0.8388 - 2s/epoch - 3ms/step\n",
            "Epoch 83/100\n",
            "567/567 - 1s - loss: 0.2725 - accuracy: 0.8878 - val_loss: 0.3489 - val_accuracy: 0.8312 - 1s/epoch - 2ms/step\n",
            "Epoch 84/100\n",
            "567/567 - 2s - loss: 0.2735 - accuracy: 0.8877 - val_loss: 0.3455 - val_accuracy: 0.8514 - 2s/epoch - 3ms/step\n",
            "Epoch 85/100\n",
            "567/567 - 1s - loss: 0.2719 - accuracy: 0.8873 - val_loss: 0.3510 - val_accuracy: 0.8241 - 1s/epoch - 2ms/step\n",
            "Epoch 86/100\n",
            "567/567 - 1s - loss: 0.2720 - accuracy: 0.8895 - val_loss: 0.3575 - val_accuracy: 0.8315 - 1s/epoch - 2ms/step\n",
            "Epoch 87/100\n",
            "567/567 - 1s - loss: 0.2713 - accuracy: 0.8895 - val_loss: 0.3450 - val_accuracy: 0.8400 - 1s/epoch - 2ms/step\n",
            "Epoch 88/100\n",
            "567/567 - 1s - loss: 0.2717 - accuracy: 0.8890 - val_loss: 0.3457 - val_accuracy: 0.8423 - 1s/epoch - 2ms/step\n",
            "Epoch 89/100\n",
            "567/567 - 1s - loss: 0.2710 - accuracy: 0.8878 - val_loss: 0.3486 - val_accuracy: 0.8335 - 1s/epoch - 2ms/step\n",
            "Epoch 90/100\n",
            "567/567 - 1s - loss: 0.2709 - accuracy: 0.8892 - val_loss: 0.3459 - val_accuracy: 0.8476 - 1s/epoch - 2ms/step\n",
            "Epoch 91/100\n",
            "567/567 - 1s - loss: 0.2714 - accuracy: 0.8889 - val_loss: 0.3464 - val_accuracy: 0.8453 - 1s/epoch - 2ms/step\n",
            "Epoch 92/100\n",
            "567/567 - 2s - loss: 0.2715 - accuracy: 0.8899 - val_loss: 0.3449 - val_accuracy: 0.8462 - 2s/epoch - 4ms/step\n",
            "Epoch 93/100\n",
            "567/567 - 2s - loss: 0.2706 - accuracy: 0.8900 - val_loss: 0.3474 - val_accuracy: 0.8335 - 2s/epoch - 4ms/step\n",
            "Epoch 94/100\n",
            "567/567 - 2s - loss: 0.2703 - accuracy: 0.8887 - val_loss: 0.3525 - val_accuracy: 0.8288 - 2s/epoch - 3ms/step\n",
            "Epoch 95/100\n",
            "567/567 - 1s - loss: 0.2701 - accuracy: 0.8890 - val_loss: 0.3417 - val_accuracy: 0.8409 - 1s/epoch - 2ms/step\n",
            "Epoch 96/100\n",
            "567/567 - 1s - loss: 0.2707 - accuracy: 0.8891 - val_loss: 0.3463 - val_accuracy: 0.8450 - 1s/epoch - 2ms/step\n",
            "Epoch 97/100\n",
            "567/567 - 1s - loss: 0.2700 - accuracy: 0.8895 - val_loss: 0.3536 - val_accuracy: 0.8271 - 977ms/epoch - 2ms/step\n",
            "Epoch 98/100\n",
            "567/567 - 1s - loss: 0.2698 - accuracy: 0.8903 - val_loss: 0.3460 - val_accuracy: 0.8456 - 1s/epoch - 2ms/step\n",
            "Epoch 99/100\n",
            "567/567 - 1s - loss: 0.2696 - accuracy: 0.8907 - val_loss: 0.3414 - val_accuracy: 0.8420 - 1s/epoch - 2ms/step\n",
            "Epoch 100/100\n",
            "567/567 - 1s - loss: 0.2697 - accuracy: 0.8880 - val_loss: 0.3525 - val_accuracy: 0.8274 - 1s/epoch - 2ms/step\n",
            "Neural Network took 143.2819254398346 seconds to train.\n"
          ]
        }
      ],
      "source": [
        "### Actually training the model\n",
        "\n",
        "batch_size = 24 # The number of samples the network sees before it backpropagates (batch size) # 24 & 32 yield accuracy = 87%\n",
        "epochs = 100 # The number of times the network will loop through the entire dataset (epochs)\n",
        "shuffle = True # Set whether to shuffle the training data so the model doesn't see it sequentially \n",
        "verbose = 2 # Set whether the model will output information when trained (0 = no output; 2 = output accuracy every epoch)\n",
        "\n",
        "# Train the neural network!\n",
        "start = time.time()\n",
        "\n",
        "history = nn.fit(x_train_bal, y_train_bal, validation_data=(x_test_bal, y_test_bal), \n",
        "          batch_size=batch_size, epochs=epochs, shuffle=shuffle, verbose=verbose)\n",
        "\n",
        "end = time.time()\n",
        "print(\"Neural Network took \"+str(end-start)+\" seconds to train.\")"
      ],
      "id": "qy2REFPge4aE"
    },
    {
      "cell_type": "code",
      "execution_count": 63,
      "metadata": {
        "id": "JjMMNsX2e4aF",
        "outputId": "ee8eeda3-c30f-4dcd-bbc0-0be98c7683ca",
        "colab": {
          "base_uri": "https://localhost:8080/",
          "height": 470
        }
      },
      "outputs": [
        {
          "output_type": "display_data",
          "data": {
            "text/plain": [
              "<Figure size 640x480 with 2 Axes>"
            ],
            "image/png": "[encoded data removed]"
          },
          "metadata": {}
        }
      ],
      "source": [
        "#Accuracy & loss with epochs\n",
        "#Neural networks train in epochs. During each epoch, the model trains by sweeping over each layer, \n",
        "#adjusting weights based on their resulting errors, through processes called forward propagation and backpropagation. \n",
        "#By plotting the model accuracy & loss which each epoch, we can visualize how the model error evolves with training.\n",
        "\n",
        "figure, axes = plt.subplots(nrows=2,ncols=1)\n",
        "figure.tight_layout(pad=3.0)\n",
        "\n",
        "# plot accuracy during training\n",
        "plt.subplot(211)\n",
        "plt.title('Accuracy')\n",
        "plt.plot(history.history['accuracy'], label='train')\n",
        "plt.plot(history.history['val_accuracy'], label='test')\n",
        "plt.legend();\n",
        "\n",
        "# plot loss during training\n",
        "plt.subplot(212)\n",
        "plt.title('Loss')\n",
        "plt.plot(history.history['loss'], label='train')\n",
        "plt.plot(history.history['val_loss'], label='test')\n",
        "plt.xlabel(\"Epoch\");\n",
        "plt.legend()\n",
        "plt.show();"
      ],
      "id": "JjMMNsX2e4aF"
    },
    {
      "cell_type": "code",
      "execution_count": 64,
      "metadata": {
        "id": "PATd04CSe4aF",
        "outputId": "508badc6-28e1-410d-841d-83b7cf8f3464",
        "colab": {
          "base_uri": "https://localhost:8080/",
          "height": 500
        }
      },
      "outputs": [
        {
          "output_type": "stream",
          "name": "stdout",
          "text": [
            "107/107 [==============================] - 0s 2ms/step\n",
            "Accuracy: 0.8274\n",
            "Recall: 0.7722\n"
          ]
        },
        {
          "output_type": "display_data",
          "data": {
            "text/plain": [
              "<Figure size 640x480 with 2 Axes>"
            ],
            "image/png": "[encoded data removed]"
          },
          "metadata": {}
        }
      ],
      "source": [
        "##3. Assess Neural Network's performance using testing data\n",
        "## Though the accuracy is pictured above, additionally quantify recall on testing data with the \n",
        "## same functions used previously to remain consistent\n",
        "\n",
        "pred_test= (nn.predict(x_test_bal)>0.5).astype(\"int32\")\n",
        "nn_acc, nn_rec = bin_metrics(y_test_bal, pred_test)\n",
        "plot_cm(y_test_bal, pred_test)"
      ],
      "id": "PATd04CSe4aF"
    },
    {
      "cell_type": "code",
      "execution_count": 65,
      "metadata": {
        "id": "IT16lZtoe4aG",
        "outputId": "7a43f819-d642-41d1-e5af-590184dba951",
        "colab": {
          "base_uri": "https://localhost:8080/"
        }
      },
      "outputs": [
        {
          "output_type": "stream",
          "name": "stdout",
          "text": [
            "Training metrics:\n",
            "425/425 [==============================] - 1s 1ms/step\n",
            "Accuracy: 0.8879\n",
            "Recall: 0.8895\n",
            " \n",
            "Testing metrics:\n",
            "Accuracy: 0.8274\n",
            "Recall: 0.7722\n"
          ]
        }
      ],
      "source": [
        "## 4. Check to see if the Neural Network is overfitting (or underfitting)\n",
        "#Remember:\n",
        "#testing metrics > training metrics = underfitting, model is too simple\n",
        "#testing metrics < training metrics = overfitting, model is too complex\n",
        "\n",
        "#Note: Neural networks can easily overfit because they are complex and can fit to the training data extremely well, \n",
        "# Overfitting prevents neural networks from generalizing to other data (like the testing data).\n",
        "\n",
        "# Compare testing data metrics to data training metrics.\n",
        "print(\"Training metrics:\")\n",
        "nn_pred_train= (nn.predict(x_train_bal)>0.5).astype(\"int32\")\n",
        "bin_metrics(y_train_bal,nn_pred_train);\n",
        "\n",
        "# As a reminder, display testing metrics:\n",
        "print(\" \")\n",
        "print(\"Testing metrics:\")\n",
        "bin_metrics(y_test_bal, pred_test);"
      ],
      "id": "IT16lZtoe4aG"
    },
    {
      "cell_type": "code",
      "execution_count": 66,
      "metadata": {
        "id": "DcuCQYL4e4aH",
        "outputId": "099c9e18-8b58-4390-df7a-e8dd5637987b",
        "colab": {
          "base_uri": "https://localhost:8080/"
        }
      },
      "outputs": [
        {
          "output_type": "stream",
          "name": "stdout",
          "text": [
            "1/1 [==============================] - 0s 87ms/step\n",
            "The meteorological conditions are: \n",
            "day             2016-05-14\n",
            "hour              0.333333\n",
            "temp_F                37.6\n",
            "RH                    88.8\n",
            "dewtemp_F             34.6\n",
            "wind_mph               4.8\n",
            "wind_dir                82\n",
            "windgust               8.9\n",
            "windgust_dir            99\n",
            "pres_Hg             849.54\n",
            "SOLIN_Wm2             83.1\n",
            "Prec_inches           0.01\n",
            "prec_occur               1\n",
            "Name: 3224, dtype: object\n",
            "There is a 97.02% chance of precipitation given those meteorological conditions.\n"
          ]
        }
      ],
      "source": [
        "## 5. Make a prediction with the Neural Network\n",
        "\n",
        "# prediction output is in the format [probability no rain, probability rain]\n",
        "nn_prediction = nn.predict(np.array(testpredictor).reshape(1, -1))[0][0]*100\n",
        "print(\"The meteorological conditions are: \")\n",
        "print(origvals)\n",
        "print(\"There is a {0:.{digits}f}% chance of precipitation given those meteorological conditions.\".format(nn_prediction, digits=2))\n"
      ],
      "id": "DcuCQYL4e4aH"
    },
    {
      "cell_type": "markdown",
      "metadata": {
        "id": "QvmRdNgJe4aI"
      },
      "source": [
        "## SUMMARY: Compare all Four Machine Learning Models"
      ],
      "id": "QvmRdNgJe4aI"
    },
    {
      "cell_type": "code",
      "execution_count": 67,
      "metadata": {
        "id": "2LEulZf_e4aI",
        "outputId": "21348ce8-306a-415a-c27b-e7e29b1f7bd5",
        "colab": {
          "base_uri": "https://localhost:8080/",
          "height": 173
        }
      },
      "outputs": [
        {
          "output_type": "execute_result",
          "data": {
            "text/plain": [
              "                    Logistic Regression  Random Forest  \\\n",
              "Metrics                                                  \n",
              "Accuracy                       0.839286       0.789334   \n",
              "Recall                         0.867096       0.773718   \n",
              "Prediction example            85.175505      74.869405   \n",
              "\n",
              "                    Singular Vector Machine  Neural Network  \n",
              "Metrics                                                      \n",
              "Accuracy                           0.820212        0.827363  \n",
              "Recall                             0.741481        0.772167  \n",
              "Prediction example                98.206317       97.019762  "
            ],
            "text/html": [
              "\n",
              "  <div id=\"df-52b27a10-22bd-4f03-817e-c751ffec06cd\">\n",
              "    <div class=\"colab-df-container\">\n",
              "      <div>\n",
              "<style scoped>\n",
              "    .dataframe tbody tr th:only-of-type {\n",
              "        vertical-align: middle;\n",
              "    }\n",
              "\n",
              "    .dataframe tbody tr th {\n",
              "        vertical-align: top;\n",
              "    }\n",
              "\n",
              "    .dataframe thead th {\n",
              "        text-align: right;\n",
              "    }\n",
              "</style>\n",
              "<table border=\"1\" class=\"dataframe\">\n",
              "  <thead>\n",
              "    <tr style=\"text-align: right;\">\n",
              "      <th></th>\n",
              "      <th>Logistic Regression</th>\n",
              "      <th>Random Forest</th>\n",
              "      <th>Singular Vector Machine</th>\n",
              "      <th>Neural Network</th>\n",
              "    </tr>\n",
              "    <tr>\n",
              "      <th>Metrics</th>\n",
              "      <th></th>\n",
              "      <th></th>\n",
              "      <th></th>\n",
              "      <th></th>\n",
              "    </tr>\n",
              "  </thead>\n",
              "  <tbody>\n",
              "    <tr>\n",
              "      <th>Accuracy</th>\n",
              "      <td>0.839286</td>\n",
              "      <td>0.789334</td>\n",
              "      <td>0.820212</td>\n",
              "      <td>0.827363</td>\n",
              "    </tr>\n",
              "    <tr>\n",
              "      <th>Recall</th>\n",
              "      <td>0.867096</td>\n",
              "      <td>0.773718</td>\n",
              "      <td>0.741481</td>\n",
              "      <td>0.772167</td>\n",
              "    </tr>\n",
              "    <tr>\n",
              "      <th>Prediction example</th>\n",
              "      <td>85.175505</td>\n",
              "      <td>74.869405</td>\n",
              "      <td>98.206317</td>\n",
              "      <td>97.019762</td>\n",
              "    </tr>\n",
              "  </tbody>\n",
              "</table>\n",
              "</div>\n",
              "      <button class=\"colab-df-convert\" onclick=\"convertToInteractive('df-52b27a10-22bd-4f03-817e-c751ffec06cd')\"\n",
              "              title=\"Convert this dataframe to an interactive table.\"\n",
              "              style=\"display:none;\">\n",
              "        \n",
              "  <svg xmlns=\"http://www.w3.org/2000/svg\" height=\"24px\"viewBox=\"0 0 24 24\"\n",
              "       width=\"24px\">\n",
              "    <path d=\"M0 0h24v24H0V0z\" fill=\"none\"/>\n",
              "    <path d=\"M18.56 5.44l.94 2.06.94-2.06 2.06-.94-2.06-.94-.94-2.06-.94 2.06-2.06.94zm-11 1L8.5 8.5l.94-2.06 2.06-.94-2.06-.94L8.5 2.5l-.94 2.06-2.06.94zm10 10l.94 2.06.94-2.06 2.06-.94-2.06-.94-.94-2.06-.94 2.06-2.06.94z\"/><path d=\"M17.41 7.96l-1.37-1.37c-.4-.4-.92-.59-1.43-.59-.52 0-1.04.2-1.43.59L10.3 9.45l-7.72 7.72c-.78.78-.78 2.05 0 2.83L4 21.41c.39.39.9.59 1.41.59.51 0 1.02-.2 1.41-.59l7.78-7.78 2.81-2.81c.8-.78.8-2.07 0-2.86zM5.41 20L4 18.59l7.72-7.72 1.47 1.35L5.41 20z\"/>\n",
              "  </svg>\n",
              "      </button>\n",
              "      \n",
              "  <style>\n",
              "    .colab-df-container {\n",
              "      display:flex;\n",
              "      flex-wrap:wrap;\n",
              "      gap: 12px;\n",
              "    }\n",
              "\n",
              "    .colab-df-convert {\n",
              "      background-color: #E8F0FE;\n",
              "      border: none;\n",
              "      border-radius: 50%;\n",
              "      cursor: pointer;\n",
              "      display: none;\n",
              "      fill: #1967D2;\n",
              "      height: 32px;\n",
              "      padding: 0 0 0 0;\n",
              "      width: 32px;\n",
              "    }\n",
              "\n",
              "    .colab-df-convert:hover {\n",
              "      background-color: #E2EBFA;\n",
              "      box-shadow: 0px 1px 2px rgba(60, 64, 67, 0.3), 0px 1px 3px 1px rgba(60, 64, 67, 0.15);\n",
              "      fill: #174EA6;\n",
              "    }\n",
              "\n",
              "    [theme=dark] .colab-df-convert {\n",
              "      background-color: #3B4455;\n",
              "      fill: #D2E3FC;\n",
              "    }\n",
              "\n",
              "    [theme=dark] .colab-df-convert:hover {\n",
              "      background-color: #434B5C;\n",
              "      box-shadow: 0px 1px 3px 1px rgba(0, 0, 0, 0.15);\n",
              "      filter: drop-shadow(0px 1px 2px rgba(0, 0, 0, 0.3));\n",
              "      fill: #FFFFFF;\n",
              "    }\n",
              "  </style>\n",
              "\n",
              "      <script>\n",
              "        const buttonEl =\n",
              "          document.querySelector('#df-52b27a10-22bd-4f03-817e-c751ffec06cd button.colab-df-convert');\n",
              "        buttonEl.style.display =\n",
              "          google.colab.kernel.accessAllowed ? 'block' : 'none';\n",
              "\n",
              "        async function convertToInteractive(key) {\n",
              "          const element = document.querySelector('#df-52b27a10-22bd-4f03-817e-c751ffec06cd');\n",
              "          const dataTable =\n",
              "            await google.colab.kernel.invokeFunction('convertToInteractive',\n",
              "                                                     [key], {});\n",
              "          if (!dataTable) return;\n",
              "\n",
              "          const docLinkHtml = 'Like what you see? Visit the ' +\n",
              "            '<a target=\"_blank\" href=https://colab.research.google.com/notebooks/data_table.ipynb>data table notebook</a>'\n",
              "            + ' to learn more about interactive tables.';\n",
              "          element.innerHTML = '';\n",
              "          dataTable['output_type'] = 'display_data';\n",
              "          await google.colab.output.renderOutput(dataTable, element);\n",
              "          const docLink = document.createElement('div');\n",
              "          docLink.innerHTML = docLinkHtml;\n",
              "          element.appendChild(docLink);\n",
              "        }\n",
              "      </script>\n",
              "    </div>\n",
              "  </div>\n",
              "  "
            ]
          },
          "metadata": {},
          "execution_count": 67
        }
      ],
      "source": [
        "model_metrics = pd.DataFrame({'Metrics':['Accuracy','Recall','Prediction example'],\n",
        "     'Logistic Regression':[lr_acc, lr_rec, lr_prediction],\n",
        "    'Random Forest':[forest_acc, forest_rec, forest_prediction],\n",
        "    'Singular Vector Machine':[svm_acc, svm_rec, svm_prediction],\n",
        "    'Neural Network':[nn_acc, nn_rec, nn_prediction]})\n",
        "model_metrics = model_metrics.set_index('Metrics')\n",
        "model_metrics"
      ],
      "id": "2LEulZf_e4aI"
    },
    {
      "cell_type": "markdown",
      "metadata": {
        "id": "gGbH8_dHe4aI"
      },
      "source": [
        "## STEP 4: Assess Feature Importance\n",
        "\n",
        "Note: Feature Importance is not possible with non-linear Singular Vector Machines because the data is transformed by the kernel into another space that is unrelated to the input space."
      ],
      "id": "gGbH8_dHe4aI"
    },
    {
      "cell_type": "code",
      "execution_count": 68,
      "metadata": {
        "id": "WOoSan7fe4aJ",
        "outputId": "cecfe030-a2ad-42e7-d062-121ce5c96547",
        "colab": {
          "base_uri": "https://localhost:8080/",
          "height": 328
        }
      },
      "outputs": [
        {
          "output_type": "execute_result",
          "data": {
            "text/plain": [
              "              importance\n",
              "RH              9.456845\n",
              "windgust        8.616478\n",
              "temp_F          2.595979\n",
              "SOLIN_Wm2       1.975078\n",
              "pres_Hg         1.142243\n",
              "dewtemp_F       0.809779\n",
              "wind_mph        0.339971\n",
              "windgust_dir    0.104846\n",
              "wind_dir        0.052960"
            ],
            "text/html": [
              "\n",
              "  <div id=\"df-f2b214dc-3544-4257-8e5d-a7dcc12409eb\">\n",
              "    <div class=\"colab-df-container\">\n",
              "      <div>\n",
              "<style scoped>\n",
              "    .dataframe tbody tr th:only-of-type {\n",
              "        vertical-align: middle;\n",
              "    }\n",
              "\n",
              "    .dataframe tbody tr th {\n",
              "        vertical-align: top;\n",
              "    }\n",
              "\n",
              "    .dataframe thead th {\n",
              "        text-align: right;\n",
              "    }\n",
              "</style>\n",
              "<table border=\"1\" class=\"dataframe\">\n",
              "  <thead>\n",
              "    <tr style=\"text-align: right;\">\n",
              "      <th></th>\n",
              "      <th>importance</th>\n",
              "    </tr>\n",
              "  </thead>\n",
              "  <tbody>\n",
              "    <tr>\n",
              "      <th>RH</th>\n",
              "      <td>9.456845</td>\n",
              "    </tr>\n",
              "    <tr>\n",
              "      <th>windgust</th>\n",
              "      <td>8.616478</td>\n",
              "    </tr>\n",
              "    <tr>\n",
              "      <th>temp_F</th>\n",
              "      <td>2.595979</td>\n",
              "    </tr>\n",
              "    <tr>\n",
              "      <th>SOLIN_Wm2</th>\n",
              "      <td>1.975078</td>\n",
              "    </tr>\n",
              "    <tr>\n",
              "      <th>pres_Hg</th>\n",
              "      <td>1.142243</td>\n",
              "    </tr>\n",
              "    <tr>\n",
              "      <th>dewtemp_F</th>\n",
              "      <td>0.809779</td>\n",
              "    </tr>\n",
              "    <tr>\n",
              "      <th>wind_mph</th>\n",
              "      <td>0.339971</td>\n",
              "    </tr>\n",
              "    <tr>\n",
              "      <th>windgust_dir</th>\n",
              "      <td>0.104846</td>\n",
              "    </tr>\n",
              "    <tr>\n",
              "      <th>wind_dir</th>\n",
              "      <td>0.052960</td>\n",
              "    </tr>\n",
              "  </tbody>\n",
              "</table>\n",
              "</div>\n",
              "      <button class=\"colab-df-convert\" onclick=\"convertToInteractive('df-f2b214dc-3544-4257-8e5d-a7dcc12409eb')\"\n",
              "              title=\"Convert this dataframe to an interactive table.\"\n",
              "              style=\"display:none;\">\n",
              "        \n",
              "  <svg xmlns=\"http://www.w3.org/2000/svg\" height=\"24px\"viewBox=\"0 0 24 24\"\n",
              "       width=\"24px\">\n",
              "    <path d=\"M0 0h24v24H0V0z\" fill=\"none\"/>\n",
              "    <path d=\"M18.56 5.44l.94 2.06.94-2.06 2.06-.94-2.06-.94-.94-2.06-.94 2.06-2.06.94zm-11 1L8.5 8.5l.94-2.06 2.06-.94-2.06-.94L8.5 2.5l-.94 2.06-2.06.94zm10 10l.94 2.06.94-2.06 2.06-.94-2.06-.94-.94-2.06-.94 2.06-2.06.94z\"/><path d=\"M17.41 7.96l-1.37-1.37c-.4-.4-.92-.59-1.43-.59-.52 0-1.04.2-1.43.59L10.3 9.45l-7.72 7.72c-.78.78-.78 2.05 0 2.83L4 21.41c.39.39.9.59 1.41.59.51 0 1.02-.2 1.41-.59l7.78-7.78 2.81-2.81c.8-.78.8-2.07 0-2.86zM5.41 20L4 18.59l7.72-7.72 1.47 1.35L5.41 20z\"/>\n",
              "  </svg>\n",
              "      </button>\n",
              "      \n",
              "  <style>\n",
              "    .colab-df-container {\n",
              "      display:flex;\n",
              "      flex-wrap:wrap;\n",
              "      gap: 12px;\n",
              "    }\n",
              "\n",
              "    .colab-df-convert {\n",
              "      background-color: #E8F0FE;\n",
              "      border: none;\n",
              "      border-radius: 50%;\n",
              "      cursor: pointer;\n",
              "      display: none;\n",
              "      fill: #1967D2;\n",
              "      height: 32px;\n",
              "      padding: 0 0 0 0;\n",
              "      width: 32px;\n",
              "    }\n",
              "\n",
              "    .colab-df-convert:hover {\n",
              "      background-color: #E2EBFA;\n",
              "      box-shadow: 0px 1px 2px rgba(60, 64, 67, 0.3), 0px 1px 3px 1px rgba(60, 64, 67, 0.15);\n",
              "      fill: #174EA6;\n",
              "    }\n",
              "\n",
              "    [theme=dark] .colab-df-convert {\n",
              "      background-color: #3B4455;\n",
              "      fill: #D2E3FC;\n",
              "    }\n",
              "\n",
              "    [theme=dark] .colab-df-convert:hover {\n",
              "      background-color: #434B5C;\n",
              "      box-shadow: 0px 1px 3px 1px rgba(0, 0, 0, 0.15);\n",
              "      filter: drop-shadow(0px 1px 2px rgba(0, 0, 0, 0.3));\n",
              "      fill: #FFFFFF;\n",
              "    }\n",
              "  </style>\n",
              "\n",
              "      <script>\n",
              "        const buttonEl =\n",
              "          document.querySelector('#df-f2b214dc-3544-4257-8e5d-a7dcc12409eb button.colab-df-convert');\n",
              "        buttonEl.style.display =\n",
              "          google.colab.kernel.accessAllowed ? 'block' : 'none';\n",
              "\n",
              "        async function convertToInteractive(key) {\n",
              "          const element = document.querySelector('#df-f2b214dc-3544-4257-8e5d-a7dcc12409eb');\n",
              "          const dataTable =\n",
              "            await google.colab.kernel.invokeFunction('convertToInteractive',\n",
              "                                                     [key], {});\n",
              "          if (!dataTable) return;\n",
              "\n",
              "          const docLinkHtml = 'Like what you see? Visit the ' +\n",
              "            '<a target=\"_blank\" href=https://colab.research.google.com/notebooks/data_table.ipynb>data table notebook</a>'\n",
              "            + ' to learn more about interactive tables.';\n",
              "          element.innerHTML = '';\n",
              "          dataTable['output_type'] = 'display_data';\n",
              "          await google.colab.output.renderOutput(dataTable, element);\n",
              "          const docLink = document.createElement('div');\n",
              "          docLink.innerHTML = docLinkHtml;\n",
              "          element.appendChild(docLink);\n",
              "        }\n",
              "      </script>\n",
              "    </div>\n",
              "  </div>\n",
              "  "
            ]
          },
          "metadata": {},
          "execution_count": 68
        }
      ],
      "source": [
        "## Feature importance in Logistical Regression Model\n",
        "\n",
        "pd.DataFrame(abs(lr.coef_[0]),\n",
        "             index = x.columns,\n",
        "             columns=['importance']).sort_values('importance',ascending=False)"
      ],
      "id": "WOoSan7fe4aJ"
    },
    {
      "cell_type": "code",
      "execution_count": null,
      "metadata": {
        "id": "6Ozq5kL4e4aJ",
        "outputId": "52cf8e40-f95e-4859-ffc2-4e45d9dc81d5"
      },
      "outputs": [
        {
          "data": {
            "text/html": [
              "<div>\n",
              "<style scoped>\n",
              "    .dataframe tbody tr th:only-of-type {\n",
              "        vertical-align: middle;\n",
              "    }\n",
              "\n",
              "    .dataframe tbody tr th {\n",
              "        vertical-align: top;\n",
              "    }\n",
              "\n",
              "    .dataframe thead th {\n",
              "        text-align: right;\n",
              "    }\n",
              "</style>\n",
              "<table border=\"1\" class=\"dataframe\">\n",
              "  <thead>\n",
              "    <tr style=\"text-align: right;\">\n",
              "      <th></th>\n",
              "      <th>importance</th>\n",
              "    </tr>\n",
              "  </thead>\n",
              "  <tbody>\n",
              "    <tr>\n",
              "      <th>RH</th>\n",
              "      <td>0.540417</td>\n",
              "    </tr>\n",
              "    <tr>\n",
              "      <th>windgust</th>\n",
              "      <td>0.151089</td>\n",
              "    </tr>\n",
              "    <tr>\n",
              "      <th>SOLIN_Wm2</th>\n",
              "      <td>0.136607</td>\n",
              "    </tr>\n",
              "    <tr>\n",
              "      <th>wind_mph</th>\n",
              "      <td>0.090365</td>\n",
              "    </tr>\n",
              "    <tr>\n",
              "      <th>dewtemp_F</th>\n",
              "      <td>0.048111</td>\n",
              "    </tr>\n",
              "    <tr>\n",
              "      <th>temp_F</th>\n",
              "      <td>0.025397</td>\n",
              "    </tr>\n",
              "    <tr>\n",
              "      <th>wind_dir</th>\n",
              "      <td>0.005308</td>\n",
              "    </tr>\n",
              "    <tr>\n",
              "      <th>pres_Hg</th>\n",
              "      <td>0.002706</td>\n",
              "    </tr>\n",
              "    <tr>\n",
              "      <th>windgust_dir</th>\n",
              "      <td>0.000000</td>\n",
              "    </tr>\n",
              "  </tbody>\n",
              "</table>\n",
              "</div>"
            ],
            "text/plain": [
              "              importance\n",
              "RH              0.540417\n",
              "windgust        0.151089\n",
              "SOLIN_Wm2       0.136607\n",
              "wind_mph        0.090365\n",
              "dewtemp_F       0.048111\n",
              "temp_F          0.025397\n",
              "wind_dir        0.005308\n",
              "pres_Hg         0.002706\n",
              "windgust_dir    0.000000"
            ]
          },
          "execution_count": 53,
          "metadata": {},
          "output_type": "execute_result"
        }
      ],
      "source": [
        "## Feature importance in Random Forest Model\n",
        "\n",
        "pd.DataFrame(forest.feature_importances_,\n",
        "                                   index = x.columns, \n",
        "                                   columns=['importance']).sort_values('importance', ascending=False)"
      ],
      "id": "6Ozq5kL4e4aJ"
    },
    {
      "cell_type": "code",
      "execution_count": null,
      "metadata": {
        "id": "Jazocgnve4aJ",
        "outputId": "6579799c-3b91-4c80-d12d-6dc78aa0c9d3"
      },
      "outputs": [
        {
          "data": {
            "text/html": [
              "<div>\n",
              "<style scoped>\n",
              "    .dataframe tbody tr th:only-of-type {\n",
              "        vertical-align: middle;\n",
              "    }\n",
              "\n",
              "    .dataframe tbody tr th {\n",
              "        vertical-align: top;\n",
              "    }\n",
              "\n",
              "    .dataframe thead th {\n",
              "        text-align: right;\n",
              "    }\n",
              "</style>\n",
              "<table border=\"1\" class=\"dataframe\">\n",
              "  <thead>\n",
              "    <tr style=\"text-align: right;\">\n",
              "      <th></th>\n",
              "      <th>importance</th>\n",
              "    </tr>\n",
              "  </thead>\n",
              "  <tbody>\n",
              "    <tr>\n",
              "      <th>RH</th>\n",
              "      <td>1.243708e+00</td>\n",
              "    </tr>\n",
              "    <tr>\n",
              "      <th>SOLIN_Wm2</th>\n",
              "      <td>2.348304e-01</td>\n",
              "    </tr>\n",
              "    <tr>\n",
              "      <th>wind_mph</th>\n",
              "      <td>2.325177e-02</td>\n",
              "    </tr>\n",
              "    <tr>\n",
              "      <th>windgust</th>\n",
              "      <td>7.262503e-03</td>\n",
              "    </tr>\n",
              "    <tr>\n",
              "      <th>temp_F</th>\n",
              "      <td>6.707832e-05</td>\n",
              "    </tr>\n",
              "    <tr>\n",
              "      <th>wind_dir</th>\n",
              "      <td>1.709801e-05</td>\n",
              "    </tr>\n",
              "    <tr>\n",
              "      <th>dewtemp_F</th>\n",
              "      <td>2.358389e-06</td>\n",
              "    </tr>\n",
              "    <tr>\n",
              "      <th>windgust_dir</th>\n",
              "      <td>5.589071e-07</td>\n",
              "    </tr>\n",
              "    <tr>\n",
              "      <th>pres_Hg</th>\n",
              "      <td>2.344669e-09</td>\n",
              "    </tr>\n",
              "  </tbody>\n",
              "</table>\n",
              "</div>"
            ],
            "text/plain": [
              "                importance\n",
              "RH            1.243708e+00\n",
              "SOLIN_Wm2     2.348304e-01\n",
              "wind_mph      2.325177e-02\n",
              "windgust      7.262503e-03\n",
              "temp_F        6.707832e-05\n",
              "wind_dir      1.709801e-05\n",
              "dewtemp_F     2.358389e-06\n",
              "windgust_dir  5.589071e-07\n",
              "pres_Hg       2.344669e-09"
            ]
          },
          "execution_count": 54,
          "metadata": {},
          "output_type": "execute_result"
        }
      ],
      "source": [
        "## Feature importance in Neural Network\n",
        "\n",
        "cols = x.columns.values\n",
        "nn_featimportance = []\n",
        "for var in cols:\n",
        "    # create a vector corresponding to a 1 where the feature is located:\n",
        "    inputvector = np.array((cols==var).astype(int).reshape(1, -1))\n",
        "    nn_featimportance.append(nn.predict(inputvector)[0][0]*100)\n",
        "\n",
        "pd.DataFrame( nn_featimportance,\n",
        "             index = x.columns,\n",
        "             columns=['importance']).sort_values('importance',ascending=False)    "
      ],
      "id": "Jazocgnve4aJ"
    },
    {
      "cell_type": "code",
      "execution_count": null,
      "metadata": {
        "id": "1pQb_4O5e4aK"
      },
      "outputs": [],
      "source": [],
      "id": "1pQb_4O5e4aK"
    },
    {
      "cell_type": "code",
      "execution_count": null,
      "metadata": {
        "id": "EKOxZfvye4aK"
      },
      "outputs": [],
      "source": [],
      "id": "EKOxZfvye4aK"
    },
    {
      "cell_type": "code",
      "execution_count": null,
      "metadata": {
        "id": "FBsIhaJPe4aK"
      },
      "outputs": [],
      "source": [],
      "id": "FBsIhaJPe4aK"
    },
    {
      "cell_type": "code",
      "execution_count": null,
      "metadata": {
        "id": "ce1tAiXHe4aK"
      },
      "outputs": [],
      "source": [],
      "id": "ce1tAiXHe4aK"
    }
  ],
  "metadata": {
    "kernelspec": {
      "display_name": "Python 3",
      "language": "python",
      "name": "python3"
    },
    "language_info": {
      "codemirror_mode": {
        "name": "ipython",
        "version": 3
      },
      "file_extension": ".py",
      "mimetype": "text/x-python",
      "name": "python",
      "nbconvert_exporter": "python",
      "pygments_lexer": "ipython3",
      "version": "3.7.8"
    },
    "colab": {
      "provenance": []
    }
  },
  "nbformat": 4,
  "nbformat_minor": 5
}